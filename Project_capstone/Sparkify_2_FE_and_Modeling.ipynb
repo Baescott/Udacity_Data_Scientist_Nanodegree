{
 "cells": [
  {
   "cell_type": "markdown",
   "metadata": {},
   "source": [
    "# Sparkify Project Workspace\n",
    "This workspace contains a tiny subset (128MB) of the full dataset available (12GB). Feel free to use this workspace to build your project, or to explore a smaller subset with Spark before deploying your cluster on the cloud. Instructions for setting up your Spark cluster is included in the last lesson of the Extracurricular Spark Course content.\n",
    "\n",
    "You can follow the steps below to guide your data analysis and model building portion of this project."
   ]
  },
  {
   "cell_type": "code",
   "execution_count": 1,
   "metadata": {},
   "outputs": [],
   "source": [
    "# import libraries\n",
    "from pyspark.sql import SparkSession\n",
    "from pyspark.sql.functions import udf, avg, stddev, split, isnull, isnan, first, when, last \n",
    "from pyspark.sql.functions import col, format_number, rand, countDistinct, count, desc\n",
    "from pyspark.sql.functions import to_timestamp, lit\n",
    "from pyspark.sql.functions import sum as s_sum\n",
    "from pyspark.sql.functions import max as s_max\n",
    "from pyspark.sql.functions import min as s_min\n",
    "from pyspark.sql.types import StringType\n",
    "from pyspark.sql.types import IntegerType\n",
    "from pyspark.sql.functions import desc\n",
    "from pyspark.sql.functions import asc\n",
    "\n",
    "from pyspark.ml.stat import Correlation\n",
    "from pyspark.ml.feature import VectorAssembler\n",
    "from pyspark.ml.feature import StringIndexer, Imputer\n",
    "\n",
    "import os\n",
    "import numpy as np\n",
    "import seaborn as sns\n",
    "import pandas as pd\n",
    "import matplotlib.pyplot as plt\n",
    "import pickle\n",
    "import datetime"
   ]
  },
  {
   "cell_type": "code",
   "execution_count": 2,
   "metadata": {},
   "outputs": [
    {
     "name": "stderr",
     "output_type": "stream",
     "text": [
      "/usr/local/lib/python3.6/dist-packages/pyspark/context.py:238: FutureWarning: Python 3.6 support is deprecated in Spark 3.2.\n",
      "  FutureWarning\n"
     ]
    }
   ],
   "source": [
    "# create a Spark session\n",
    "spark = SparkSession \\\n",
    "    .builder \\\n",
    "    .appName(\"Sparkify_Data\") \\\n",
    "    .getOrCreate()"
   ]
  },
  {
   "cell_type": "markdown",
   "metadata": {},
   "source": [
    "# A. Load and Clean Dataset\n",
    "In this workspace, the mini-dataset file is `mini_sparkify_event_data.json`. Load and clean the dataset, checking for invalid or missing data - for example, records without userids or sessionids. "
   ]
  },
  {
   "cell_type": "markdown",
   "metadata": {},
   "source": [
    "## 1. Load"
   ]
  },
  {
   "cell_type": "code",
   "execution_count": 3,
   "metadata": {},
   "outputs": [
    {
     "name": "stdout",
     "output_type": "stream",
     "text": [
      "root\n",
      " |-- artist: string (nullable = true)\n",
      " |-- auth: string (nullable = true)\n",
      " |-- firstName: string (nullable = true)\n",
      " |-- gender: string (nullable = true)\n",
      " |-- itemInSession: long (nullable = true)\n",
      " |-- lastName: string (nullable = true)\n",
      " |-- length: double (nullable = true)\n",
      " |-- level: string (nullable = true)\n",
      " |-- location: string (nullable = true)\n",
      " |-- method: string (nullable = true)\n",
      " |-- page: string (nullable = true)\n",
      " |-- registration: long (nullable = true)\n",
      " |-- sessionId: long (nullable = true)\n",
      " |-- song: string (nullable = true)\n",
      " |-- status: long (nullable = true)\n",
      " |-- ts: long (nullable = true)\n",
      " |-- userAgent: string (nullable = true)\n",
      " |-- userId: string (nullable = true)\n",
      "\n"
     ]
    }
   ],
   "source": [
    "df = spark.read.json('mini_sparkify_event_data.json')\n",
    "df.printSchema()"
   ]
  },
  {
   "cell_type": "code",
   "execution_count": 4,
   "metadata": {},
   "outputs": [
    {
     "data": {
      "text/plain": [
       "18"
      ]
     },
     "execution_count": 4,
     "metadata": {},
     "output_type": "execute_result"
    }
   ],
   "source": [
    "len(df.columns)"
   ]
  },
  {
   "cell_type": "code",
   "execution_count": 5,
   "metadata": {
    "scrolled": true
   },
   "outputs": [
    {
     "data": {
      "text/plain": [
       "286500"
      ]
     },
     "execution_count": 5,
     "metadata": {},
     "output_type": "execute_result"
    }
   ],
   "source": [
    "df.count()"
   ]
  },
  {
   "cell_type": "markdown",
   "metadata": {},
   "source": [
    "There are 18 columns and 286,500 rows in our dataset. Among those columns, columns named `userId` and `sessionId` will play important role as the key."
   ]
  },
  {
   "cell_type": "markdown",
   "metadata": {},
   "source": [
    "## 2. Cleansing"
   ]
  },
  {
   "cell_type": "markdown",
   "metadata": {},
   "source": [
    "From above `df.describe(userId).show()`, we could find that it's minimum value is little awkward. Let's find and delete NaNs and empty strings."
   ]
  },
  {
   "cell_type": "markdown",
   "metadata": {},
   "source": [
    "We saw 8,346 empty strings in `userId`, so let's delete these."
   ]
  },
  {
   "cell_type": "code",
   "execution_count": 6,
   "metadata": {},
   "outputs": [
    {
     "data": {
      "text/plain": [
       "278154"
      ]
     },
     "execution_count": 6,
     "metadata": {},
     "output_type": "execute_result"
    }
   ],
   "source": [
    "df_cleaned = df.filter(df['userId']!='')\n",
    "df_cleaned.count()"
   ]
  },
  {
   "cell_type": "code",
   "execution_count": 7,
   "metadata": {},
   "outputs": [
    {
     "name": "stdout",
     "output_type": "stream",
     "text": [
      "root\n",
      " |-- artist: string (nullable = true)\n",
      " |-- auth: string (nullable = true)\n",
      " |-- firstName: string (nullable = true)\n",
      " |-- gender: string (nullable = true)\n",
      " |-- itemInSession: long (nullable = true)\n",
      " |-- lastName: string (nullable = true)\n",
      " |-- length: double (nullable = true)\n",
      " |-- level: string (nullable = true)\n",
      " |-- location: string (nullable = true)\n",
      " |-- method: string (nullable = true)\n",
      " |-- page: string (nullable = true)\n",
      " |-- registration: long (nullable = true)\n",
      " |-- sessionId: long (nullable = true)\n",
      " |-- song: string (nullable = true)\n",
      " |-- status: long (nullable = true)\n",
      " |-- ts: long (nullable = true)\n",
      " |-- userAgent: string (nullable = true)\n",
      " |-- userId: string (nullable = true)\n",
      "\n"
     ]
    }
   ],
   "source": [
    "df_cleaned.printSchema()"
   ]
  },
  {
   "cell_type": "code",
   "execution_count": 8,
   "metadata": {},
   "outputs": [],
   "source": [
    "del df"
   ]
  },
  {
   "cell_type": "markdown",
   "metadata": {},
   "source": [
    "---"
   ]
  },
  {
   "cell_type": "markdown",
   "metadata": {},
   "source": [
    "# B. Exploratory Data Analysis\n",
    "\n",
    "We've done this in `Sparkify_1_ETL_and_EDA.ipynb`. Let's apply its result to do feature engineering."
   ]
  },
  {
   "cell_type": "markdown",
   "metadata": {},
   "source": [
    "- Define `churn`"
   ]
  },
  {
   "cell_type": "code",
   "execution_count": 9,
   "metadata": {},
   "outputs": [],
   "source": [
    "churn_users = df_cleaned.filter(df_cleaned.page == \"Cancellation Confirmation\") \\\n",
    "                .select(\"userId\").dropDuplicates().collect()\n",
    "churn_user_lst = [str(row.userId) for row in churn_users]"
   ]
  },
  {
   "cell_type": "code",
   "execution_count": 10,
   "metadata": {},
   "outputs": [],
   "source": [
    "df_cln_stmp = df_cleaned.withColumn('churn', \n",
    "                                    when(df_cleaned.userId.isin(churn_user_lst), 1) \\\n",
    "                                    .otherwise(0))"
   ]
  },
  {
   "cell_type": "markdown",
   "metadata": {},
   "source": [
    "- Change `ts` and `registration` into datetime variable"
   ]
  },
  {
   "cell_type": "code",
   "execution_count": 11,
   "metadata": {},
   "outputs": [],
   "source": [
    "change_into_dt = udf(lambda x : datetime.datetime\\\n",
    "                                        .fromtimestamp(x/1000.0)\\\n",
    "                                        .strftime(\"%Y-%m-%d %H:%M:%S\"))\n",
    "\n",
    "df_cln_stmp = df_cln_stmp.withColumn('ts_dt', \n",
    "                                     change_into_dt(df_cln_stmp.ts))\n",
    "df_cln_stmp = df_cln_stmp.withColumn('register_dt', \n",
    "                                     change_into_dt(df_cln_stmp.registration))\n",
    "\n",
    "df_cln_stmp = df_cln_stmp.drop('ts').drop('registration')"
   ]
  },
  {
   "cell_type": "markdown",
   "metadata": {},
   "source": [
    "- Drop columns we won't use"
   ]
  },
  {
   "cell_type": "code",
   "execution_count": 12,
   "metadata": {},
   "outputs": [],
   "source": [
    "useless_cols = ['auth', 'method', 'firstName', 'lastName', \n",
    "                'userAgent', 'itemInSession', 'status']\n",
    "\n",
    "df_cln_stmp = df_cln_stmp.select([col for col in df_cln_stmp.columns \\\n",
    "                                          if col not in useless_cols])"
   ]
  },
  {
   "cell_type": "code",
   "execution_count": 13,
   "metadata": {},
   "outputs": [],
   "source": [
    "del df_cleaned"
   ]
  },
  {
   "cell_type": "markdown",
   "metadata": {},
   "source": [
    "---"
   ]
  },
  {
   "cell_type": "markdown",
   "metadata": {},
   "source": [
    "# C. Feature Engineering\n",
    "Once you've familiarized yourself with the data, build out the features you find promising to train your model on. To work with the full dataset, you can follow the following steps.\n",
    "- Write a script to extract the necessary features from the smaller subset of data\n",
    "- Ensure that your script is scalable, using the best practices discussed in Lesson 3\n",
    "- Try your script on the full data set, debugging your script if necessary\n",
    "\n",
    "If you are working in the classroom workspace, you can just extract features based on the small subset of data contained here. Be sure to transfer over this work to the larger dataset when you work on your Spark cluster."
   ]
  },
  {
   "cell_type": "markdown",
   "metadata": {},
   "source": [
    "## C-1. From EDA"
   ]
  },
  {
   "cell_type": "markdown",
   "metadata": {},
   "source": [
    "We'll start to make additional features related to some statistics of original columns from `df_cln_stmp`, as we saw in previous EDA section. The list is below.\n",
    "\n",
    "- `Artist`  \n",
    "    - Count of listened artists & distinct artists \n",
    "- `gender`  \n",
    "- `length`\n",
    "    - Total length of played songs, by second  \n",
    "- `level`\n",
    "    - Last status of level (free or paid)\n",
    "- `page`  \n",
    "    - Frequency of every values\n",
    "- `song`\n",
    "    - Count of played songs & distinct songs\n",
    "- `sessionId`\n",
    "    - The number of session each user played"
   ]
  },
  {
   "cell_type": "markdown",
   "metadata": {},
   "source": [
    "- Artist"
   ]
  },
  {
   "cell_type": "code",
   "execution_count": 14,
   "metadata": {},
   "outputs": [],
   "source": [
    "artist_cnt = df_cln_stmp.filter(df_cln_stmp.page == 'NextSong') \\\n",
    "                        .groupby(['userId']) \\\n",
    "                        .agg(count('artist').alias('artist_cnt'),\n",
    "                             countDistinct('artist').alias('artist_cnt_uniq'))"
   ]
  },
  {
   "cell_type": "markdown",
   "metadata": {},
   "source": [
    "**We'll make `df_final` for gather these features.**"
   ]
  },
  {
   "cell_type": "code",
   "execution_count": 15,
   "metadata": {},
   "outputs": [],
   "source": [
    "df_final = artist_cnt\n",
    "del artist_cnt"
   ]
  },
  {
   "cell_type": "markdown",
   "metadata": {},
   "source": [
    "- gender \n",
    "\n",
    "We just used `.agg` for get `gender` column."
   ]
  },
  {
   "cell_type": "code",
   "execution_count": 16,
   "metadata": {},
   "outputs": [],
   "source": [
    "gender = df_cln_stmp.groupby(['gender','userId']) \\\n",
    "                    .agg({'churn':'count'}).drop('count(churn)')\n",
    "\n",
    "df_final = df_final.join(gender,['userId'])"
   ]
  },
  {
   "cell_type": "markdown",
   "metadata": {},
   "source": [
    "- length"
   ]
  },
  {
   "cell_type": "code",
   "execution_count": 17,
   "metadata": {},
   "outputs": [],
   "source": [
    "length_sum = df_cln_stmp.filter(df_cln_stmp.page=='NextSong') \\\n",
    "                        .groupby(['userId']).agg(s_sum('length').alias('length_sum'))\n",
    "\n",
    "df_final = df_final.join(length_sum,['userId'])"
   ]
  },
  {
   "cell_type": "markdown",
   "metadata": {},
   "source": [
    "- level"
   ]
  },
  {
   "cell_type": "code",
   "execution_count": 18,
   "metadata": {},
   "outputs": [],
   "source": [
    "level_last = df_cln_stmp.groupby(['userId']).agg(last('level').alias('level_last'))\n",
    "\n",
    "df_final = df_final.join(level_last,['userId'])"
   ]
  },
  {
   "cell_type": "markdown",
   "metadata": {},
   "source": [
    "- page"
   ]
  },
  {
   "cell_type": "code",
   "execution_count": 19,
   "metadata": {},
   "outputs": [],
   "source": [
    "#Make pivot table of page\n",
    "page_pivot = df_cln_stmp.groupby(['userId','churn']).pivot('page').count()\n",
    "page_pivot = page_pivot.drop('Cancel').drop('Cancellation Confirmation')\n",
    "page_pivot = page_pivot.fillna(0)"
   ]
  },
  {
   "cell_type": "code",
   "execution_count": 20,
   "metadata": {},
   "outputs": [],
   "source": [
    "#Merge page count values per users\n",
    "page_cnt = df_cln_stmp.filter(\"page!='Cancellation Confirmation' and page!='Cancel'\\\n",
    "                             and page!='Add Friend' \\\n",
    "                             and page!='Submit Downgrade' and page!='Submit Upgrade'\")\\\n",
    "                          .groupBy('userId').count()\n",
    "\n",
    "page_pivot = page_pivot.join(page_cnt, ['userId'])\n",
    "page_pivot = page_pivot.withColumnRenamed('count', 'pageCount')"
   ]
  },
  {
   "cell_type": "code",
   "execution_count": 21,
   "metadata": {},
   "outputs": [],
   "source": [
    "#Make frequancy columns\n",
    "remain_cols = ['userId', 'churn', 'Add Friend', \n",
    "               'Submit Downgrade','Submit Upgrade', 'pageCount']\n",
    "freq_cols = []\n",
    "\n",
    "for col in page_pivot.columns:\n",
    "    if col not in remain_cols:\n",
    "        # add frequency col\n",
    "        new_name = f'freq{col}'\n",
    "        freq_cols.append(new_name)\n",
    "        page_pivot = page_pivot.withColumn(new_name,\n",
    "                                          page_pivot[col]/page_pivot['pageCount'])\n",
    "        \n",
    "page_pivot = page_pivot.select(remain_cols + freq_cols)"
   ]
  },
  {
   "cell_type": "code",
   "execution_count": 22,
   "metadata": {},
   "outputs": [],
   "source": [
    "#Merge to df_final\n",
    "df_final = df_final.join(page_pivot,['userId'])"
   ]
  },
  {
   "cell_type": "markdown",
   "metadata": {},
   "source": [
    "- song"
   ]
  },
  {
   "cell_type": "code",
   "execution_count": 23,
   "metadata": {},
   "outputs": [],
   "source": [
    "song_cnt = df_cln_stmp.filter(df_cln_stmp.page == 'NextSong') \\\n",
    "                    .groupby(['userId']) \\\n",
    "                    .agg(count('song').alias('song_cnt'),\n",
    "                         countDistinct('song').alias('song_cnt_uniq'))\n",
    "\n",
    "df_final = df_final.join(song_cnt, ['userId'])"
   ]
  },
  {
   "cell_type": "markdown",
   "metadata": {},
   "source": [
    "- sessionId"
   ]
  },
  {
   "cell_type": "code",
   "execution_count": 24,
   "metadata": {},
   "outputs": [],
   "source": [
    "session_cnt = df_cln_stmp.groupby(['userId']) \\\n",
    "                        .agg(countDistinct('sessionId').alias('session_cnt_uniq'))\n",
    "\n",
    "df_final = df_final.join(session_cnt, ['userId'])"
   ]
  },
  {
   "cell_type": "markdown",
   "metadata": {},
   "source": [
    "Let's see our data before jump into next step."
   ]
  },
  {
   "cell_type": "code",
   "execution_count": 25,
   "metadata": {},
   "outputs": [
    {
     "name": "stdout",
     "output_type": "stream",
     "text": [
      "The number of users: 225\n",
      "----- Churns: 52\n",
      "----- Others: 173\n",
      "Ratio: 23.11%\n"
     ]
    }
   ],
   "source": [
    "n_churns = df_final.filter(df_final.churn==1).select('userId').dropDuplicates().count()\n",
    "n_users  = df_final.select('userId').dropDuplicates().count()\n",
    "\n",
    "print(f'The number of users: {n_users}')\n",
    "print(f'----- Churns: {n_churns}')\n",
    "print(f'----- Others: {n_users - n_churns}')\n",
    "print(f'Ratio: {round(100*n_churns/n_users, 2)}%')"
   ]
  },
  {
   "cell_type": "markdown",
   "metadata": {},
   "source": [
    "Delete older things for our memory."
   ]
  },
  {
   "cell_type": "code",
   "execution_count": 26,
   "metadata": {},
   "outputs": [],
   "source": [
    "del gender, length_sum, level_last, page_pivot, song_cnt, session_cnt"
   ]
  },
  {
   "cell_type": "markdown",
   "metadata": {},
   "source": [
    "## C-2. New Features"
   ]
  },
  {
   "cell_type": "markdown",
   "metadata": {},
   "source": [
    "We'll add additional featrues, based on our data wrangling experiences. The list is below. \n",
    "- Average of the number of songs per each session\n",
    "- Average duration of each session\n",
    "- Average duration of each session INTERVAL by days\n",
    "- Subscription length, calculated by registration date\n",
    "- Ratio of same artists among whole artists user listened"
   ]
  },
  {
   "cell_type": "markdown",
   "metadata": {},
   "source": [
    "To simplify, we'll use `ses` as an abbreviation of session."
   ]
  },
  {
   "cell_type": "markdown",
   "metadata": {},
   "source": [
    "- Average of the number of songs per each session"
   ]
  },
  {
   "cell_type": "code",
   "execution_count": 27,
   "metadata": {},
   "outputs": [
    {
     "name": "stdout",
     "output_type": "stream",
     "text": [
      "+------+------------------+\n",
      "|userId|      song_cnt_avg|\n",
      "+------+------------------+\n",
      "|100010|39.285714285714285|\n",
      "|200002|              64.5|\n",
      "|   125|               8.0|\n",
      "|    51|             211.1|\n",
      "|   124| 140.6551724137931|\n",
      "+------+------------------+\n",
      "only showing top 5 rows\n",
      "\n"
     ]
    }
   ],
   "source": [
    "song_cnt_all_ses = df_cln_stmp.groupby(['userId', 'sessionId']) \\\n",
    "                            .agg(count('song').alias('song_cnt'))\n",
    "\n",
    "song_cnt_per_ses = song_cnt_all_ses.groupby('userId') \\\n",
    "                                .agg(avg('song_cnt').alias('song_cnt_avg'))\n",
    "song_cnt_per_ses.show(5)"
   ]
  },
  {
   "cell_type": "markdown",
   "metadata": {},
   "source": [
    "- Average duration of each session"
   ]
  },
  {
   "cell_type": "code",
   "execution_count": 28,
   "metadata": {},
   "outputs": [
    {
     "name": "stdout",
     "output_type": "stream",
     "text": [
      "root\n",
      " |-- userId: string (nullable = true)\n",
      " |-- avg_ses_duration: double (nullable = true)\n",
      "\n"
     ]
    }
   ],
   "source": [
    "ses_len = df_cln_stmp.groupby(['userId', 'churn', 'sessionId']) \\\n",
    "                    .agg(s_min('ts_dt'), s_max('ts_dt'))\n",
    "\n",
    "ses_len = ses_len.select('userId', 'sessionId',\n",
    "              to_timestamp('min(ts_dt)', 'yyyy-MM-dd HH:mm:ss').alias('min_ts_dt'),\n",
    "              to_timestamp('max(ts_dt)', 'yyyy-MM-dd HH:mm:ss').alias('max_ts_dt'))\n",
    "\n",
    "ses_len = ses_len.withColumn('ses_duration', \n",
    "                             (ses_len['max_ts_dt'].cast('long') \\\n",
    "                              -ses_len['min_ts_dt'].cast('long'))/60)\n",
    "\n",
    "ses_len = ses_len.groupby('userId') \\\n",
    "                    .agg(avg('ses_duration').alias('avg_ses_duration'))\n",
    "ses_len.printSchema()"
   ]
  },
  {
   "cell_type": "markdown",
   "metadata": {},
   "source": [
    "- Average duration of each session **INTERVAL** by days"
   ]
  },
  {
   "cell_type": "code",
   "execution_count": 29,
   "metadata": {},
   "outputs": [
    {
     "name": "stdout",
     "output_type": "stream",
     "text": [
      "root\n",
      " |-- userId: string (nullable = true)\n",
      " |-- avg_ses_dur_interval: double (nullable = true)\n",
      "\n"
     ]
    }
   ],
   "source": [
    "ses_interval = df_cln_stmp.groupby('userId') \\\n",
    "                    .agg(s_min('ts_dt'), s_max('ts_dt'), \n",
    "                         countDistinct('sessionId').alias('ses_cnt_uniq'))\n",
    "\n",
    "ses_interval = ses_interval.select('userId', 'ses_cnt_uniq',\n",
    "                    to_timestamp('min(ts_dt)', 'yyyy-MM-dd HH:mm:ss').alias('min_ts_dt'),\n",
    "                    to_timestamp('max(ts_dt)', 'yyyy-MM-dd HH:mm:ss').alias('max_ts_dt'))\n",
    "\n",
    "ses_interval = ses_interval.withColumn('ses_duration_total',\n",
    "                                   (ses_interval['max_ts_dt'].cast('long') \\\n",
    "                                      -ses_interval['min_ts_dt'].cast('long'))/(24*60*60))\n",
    "\n",
    "ses_interval = ses_interval.withColumn('avg_ses_dur_interval',\n",
    "                                    ses_interval['ses_duration_total'] / ses_interval['ses_cnt_uniq'])\n",
    "\n",
    "ses_interval = ses_interval.select(['userId', 'avg_ses_dur_interval'])\n",
    "ses_interval.printSchema()"
   ]
  },
  {
   "cell_type": "markdown",
   "metadata": {},
   "source": [
    "- Subscription length, calculated by registration date"
   ]
  },
  {
   "cell_type": "code",
   "execution_count": 30,
   "metadata": {},
   "outputs": [
    {
     "name": "stdout",
     "output_type": "stream",
     "text": [
      "root\n",
      " |-- userId: string (nullable = true)\n",
      " |-- sub_len: double (nullable = true)\n",
      "\n"
     ]
    }
   ],
   "source": [
    "subs_len = df_cln_stmp.groupby('userId', 'register_dt') \\\n",
    "                        .agg(s_max('ts_dt'))\n",
    "\n",
    "subs_len = subs_len.select('userId',\n",
    "            to_timestamp('register_dt', 'yyyy-MM-dd HH:mm:ss').alias('register_dt'),\n",
    "            to_timestamp('max(ts_dt)', 'yyyy-MM-dd HH:mm:ss').alias('max_ts_dt'))\n",
    "\n",
    "subs_len = subs_len.withColumn('sub_len', \n",
    "                              (subs_len['max_ts_dt'].cast('long') \\\n",
    "                                  -subs_len['register_dt'].cast('long'))/(24*60*60))\n",
    "\n",
    "subs_len = subs_len.select(['userId', 'sub_len'])\n",
    "subs_len.printSchema()"
   ]
  },
  {
   "cell_type": "markdown",
   "metadata": {},
   "source": [
    "- Ratio of same artists among whole artists user listened"
   ]
  },
  {
   "cell_type": "code",
   "execution_count": 31,
   "metadata": {},
   "outputs": [],
   "source": [
    "df_final_2 = df_final.withColumn('same_artist_ratio',\n",
    "                          df_final['artist_cnt_uniq'] / df_final['artist_cnt'])"
   ]
  },
  {
   "cell_type": "markdown",
   "metadata": {},
   "source": [
    "Now add these new features to `df_final`."
   ]
  },
  {
   "cell_type": "code",
   "execution_count": 32,
   "metadata": {},
   "outputs": [],
   "source": [
    "df_final_2 = df_final_2.join(song_cnt_per_ses, 'userId')\n",
    "df_final_2 = df_final_2.join(ses_len, 'userId')\n",
    "df_final_2 = df_final_2.join(ses_interval, 'userId')\n",
    "df_final_2 = df_final_2.join(subs_len, 'userId')"
   ]
  },
  {
   "cell_type": "markdown",
   "metadata": {},
   "source": [
    "Delete older things for our memory."
   ]
  },
  {
   "cell_type": "code",
   "execution_count": 33,
   "metadata": {},
   "outputs": [],
   "source": [
    "del df_cln_stmp, df_final, song_cnt_per_ses, ses_len, ses_interval, subs_len"
   ]
  },
  {
   "cell_type": "markdown",
   "metadata": {},
   "source": [
    "## C-3. Check Multicollinearity"
   ]
  },
  {
   "cell_type": "markdown",
   "metadata": {},
   "source": [
    "We'll check the multicollinearity of features. Before I did this job, I used `toPandas()` first, but it takes about **3 hours**! Because this took too much time, I tried other method using `VectorAssembler()`. This was very much faster than before."
   ]
  },
  {
   "cell_type": "code",
   "execution_count": 34,
   "metadata": {},
   "outputs": [
    {
     "name": "stderr",
     "output_type": "stream",
     "text": [
      "/usr/local/lib/python3.6/dist-packages/pyspark/sql/context.py:127: FutureWarning: Deprecated in 3.0.0. Use SparkSession.builder.getOrCreate() instead.\n",
      "  FutureWarning\n"
     ]
    }
   ],
   "source": [
    "# Convert to vector column first\n",
    "vector_col = \"corr_features\"\n",
    "input_cols = [col for col in df_final_2.columns if col not in['userId', 'gender', 'level_last']]\n",
    "\n",
    "assembler = VectorAssembler(inputCols=input_cols, outputCol=vector_col)\n",
    "df_vector = assembler.transform(df_final_2).select(vector_col)\n",
    "\n",
    "# Get correlation matrix\n",
    "cor_mat = Correlation.corr(df_vector, vector_col)\n",
    "cor_mat_1d_array = cor_mat.collect()[0][\"pearson({})\".format(vector_col)].values\n",
    "cor_mat_2d_array = cor_mat_1d_array.reshape([len(input_cols), len(input_cols)])\n",
    "cor_mat_df = pd.DataFrame(cor_mat_2d_array, index = input_cols, columns = input_cols)"
   ]
  },
  {
   "cell_type": "code",
   "execution_count": 35,
   "metadata": {},
   "outputs": [
    {
     "data": {
      "text/plain": [
       "<AxesSubplot:>"
      ]
     },
     "execution_count": 35,
     "metadata": {},
     "output_type": "execute_result"
    },
    {
     "data": {
      "image/png": "[encoded data removed]",
      "text/plain": [
       "<Figure size 720x576 with 2 Axes>"
      ]
     },
     "metadata": {
      "needs_background": "light"
     },
     "output_type": "display_data"
    }
   ],
   "source": [
    "f, ax = plt.subplots(figsize=(10, 8))\n",
    "\n",
    "# Use lower triangle only\n",
    "mask = np.zeros_like(cor_mat_df, dtype=np.bool)\n",
    "mask[np.triu_indices_from(mask)] = True\n",
    "\n",
    "sns.heatmap(cor_mat_df, \n",
    "                    mask=mask,\n",
    "                    cmap=sns.diverging_palette(220, 10, as_cmap=True),\n",
    "                    square=True, ax=ax)"
   ]
  },
  {
   "cell_type": "markdown",
   "metadata": {},
   "source": [
    "Let's find highly correlated columns among those."
   ]
  },
  {
   "cell_type": "code",
   "execution_count": 36,
   "metadata": {},
   "outputs": [
    {
     "data": {
      "text/plain": [
       "['artist_cnt',\n",
       " 'artist_cnt_uniq',\n",
       " 'length_sum',\n",
       " 'pageCount',\n",
       " 'song_cnt',\n",
       " 'song_cnt_avg']"
      ]
     },
     "execution_count": 36,
     "metadata": {},
     "output_type": "execute_result"
    }
   ],
   "source": [
    "# Create a True/False mask and apply it\n",
    "cor_abs = cor_mat_df.abs()\n",
    "\n",
    "mask = np.triu(np.ones_like(cor_abs, dtype=bool))\n",
    "tri_df = cor_abs.mask(mask)\n",
    "\n",
    "# List column names of highly correlated features (r > 0.95)\n",
    "cols_to_drop = [col for col in tri_df.columns if any(tri_df[col] > 0.95)]\n",
    "\n",
    "cols_to_drop"
   ]
  },
  {
   "cell_type": "markdown",
   "metadata": {},
   "source": [
    "We'll drop those `cols_to_drop` and find again."
   ]
  },
  {
   "cell_type": "code",
   "execution_count": 37,
   "metadata": {},
   "outputs": [
    {
     "data": {
      "text/plain": [
       "[]"
      ]
     },
     "execution_count": 37,
     "metadata": {},
     "output_type": "execute_result"
    }
   ],
   "source": [
    "cor_abs_2 = cor_abs.drop(cols_to_drop, axis=0).drop(cols_to_drop, axis=1)\n",
    "\n",
    "mask = np.triu(np.ones_like(cor_abs_2, dtype=bool))\n",
    "tri_df = cor_abs_2.mask(mask)\n",
    "\n",
    "# List column names of highly correlated features (r > 0.95)\n",
    "cols_to_drop_2 = [col for col in tri_df.columns if any(tri_df[col] > 0.95)]\n",
    "\n",
    "cols_to_drop_2"
   ]
  },
  {
   "cell_type": "markdown",
   "metadata": {},
   "source": [
    "Now we could say that we treated highly correlated columns.\n",
    "\n",
    "We'll also drop those `cols_to_drop` in our original dataset, `df_final_2`."
   ]
  },
  {
   "cell_type": "code",
   "execution_count": 38,
   "metadata": {},
   "outputs": [],
   "source": [
    "df_final_3 = df_final_2.select([col for col in df_final_2.columns if col not in cols_to_drop])\n",
    "# df_final_3.printSchema()"
   ]
  },
  {
   "cell_type": "markdown",
   "metadata": {},
   "source": [
    "Next, we should drop `userId` and encode categorical features(`gender`, `level_last`) using `StringIndexer`."
   ]
  },
  {
   "cell_type": "code",
   "execution_count": 39,
   "metadata": {},
   "outputs": [
    {
     "name": "stdout",
     "output_type": "stream",
     "text": [
      "root\n",
      " |-- churn: integer (nullable = false)\n",
      " |-- Add Friend: long (nullable = true)\n",
      " |-- Submit Downgrade: long (nullable = true)\n",
      " |-- Submit Upgrade: long (nullable = true)\n",
      " |-- freqAbout: double (nullable = true)\n",
      " |-- freqAdd to Playlist: double (nullable = true)\n",
      " |-- freqDowngrade: double (nullable = true)\n",
      " |-- freqError: double (nullable = true)\n",
      " |-- freqHelp: double (nullable = true)\n",
      " |-- freqHome: double (nullable = true)\n",
      " |-- freqLogout: double (nullable = true)\n",
      " |-- freqNextSong: double (nullable = true)\n",
      " |-- freqRoll Advert: double (nullable = true)\n",
      " |-- freqSave Settings: double (nullable = true)\n",
      " |-- freqSettings: double (nullable = true)\n",
      " |-- freqThumbs Down: double (nullable = true)\n",
      " |-- freqThumbs Up: double (nullable = true)\n",
      " |-- freqUpgrade: double (nullable = true)\n",
      " |-- song_cnt_uniq: long (nullable = false)\n",
      " |-- session_cnt_uniq: long (nullable = false)\n",
      " |-- same_artist_ratio: double (nullable = true)\n",
      " |-- avg_ses_duration: double (nullable = true)\n",
      " |-- avg_ses_dur_interval: double (nullable = true)\n",
      " |-- sub_len: double (nullable = true)\n",
      " |-- gender_label: double (nullable = false)\n",
      " |-- level_last_label: double (nullable = false)\n",
      "\n"
     ]
    }
   ],
   "source": [
    "#Drop userId\n",
    "df_final_3 = df_final_3.drop('userId')\n",
    "\n",
    "#Label encodling\n",
    "label_encoder = StringIndexer(inputCol = 'gender', outputCol = 'gender_label')\n",
    "df_final_3 = label_encoder.fit(df_final_3).transform(df_final_3); df_final_3 = df_final_3.drop('gender')\n",
    "\n",
    "label_encoder = StringIndexer(inputCol = 'level_last', outputCol = 'level_last_label')\n",
    "df_final_3 = label_encoder.fit(df_final_3).transform(df_final_3); df_final_3 = df_final_3.drop('level_last')\n",
    "\n",
    "df_final_3.printSchema()"
   ]
  },
  {
   "cell_type": "markdown",
   "metadata": {},
   "source": [
    "# D. Modeling\n",
    "Split the full dataset into train, test, and validation sets. Test out several of the machine learning methods you learned. Evaluate the accuracy of the various models, tuning parameters as necessary. Determine your winning model based on test accuracy and report results on the validation set. Since the churned users are a fairly small subset, I suggest using F1 score as the metric to optimize.\n",
    "\n",
    "**Since the ratio of churn users in our dataset is almost 23%, we'd rather use F-1 score than accuracy.** Because the minimum accuracy would be 77%!"
   ]
  },
  {
   "cell_type": "code",
   "execution_count": 40,
   "metadata": {},
   "outputs": [],
   "source": [
    "from pyspark.ml import Pipeline\n",
    "from pyspark.ml.classification import LogisticRegression,RandomForestClassifier, GBTClassifier, DecisionTreeClassifier\n",
    "from pyspark.ml.evaluation import MulticlassClassificationEvaluator\n",
    "from pyspark.ml.feature import MinMaxScaler, VectorAssembler\n",
    "from pyspark.ml.tuning import CrossValidator, ParamGridBuilder"
   ]
  },
  {
   "cell_type": "markdown",
   "metadata": {},
   "source": [
    "Before starting task, we'll delete older things because of memory."
   ]
  },
  {
   "cell_type": "code",
   "execution_count": 41,
   "metadata": {},
   "outputs": [],
   "source": [
    "del df_final_2, cor_mat, cor_mat_1d_array, cor_mat_2d_array, cor_mat_df"
   ]
  },
  {
   "cell_type": "markdown",
   "metadata": {},
   "source": [
    "## D-1. Fill null values"
   ]
  },
  {
   "cell_type": "code",
   "execution_count": 42,
   "metadata": {},
   "outputs": [
    {
     "data": {
      "text/plain": [
       "churn                 0    0\n",
       "Add Friend            0    0\n",
       "Submit Downgrade      0    0\n",
       "Submit Upgrade        0    0\n",
       "freqAbout             0    0\n",
       "freqAdd to Playlist   0    0\n",
       "freqDowngrade         0    0\n",
       "freqError             0    0\n",
       "freqHelp              0    0\n",
       "freqHome              0    0\n",
       "freqLogout            0    0\n",
       "freqNextSong          0    0\n",
       "freqRoll Advert       0    0\n",
       "freqSave Settings     0    0\n",
       "freqSettings          0    0\n",
       "freqThumbs Down       0    0\n",
       "freqThumbs Up         0    0\n",
       "freqUpgrade           0    0\n",
       "song_cnt_uniq         0    0\n",
       "session_cnt_uniq      0    0\n",
       "same_artist_ratio     0    0\n",
       "avg_ses_duration      0    0\n",
       "avg_ses_dur_interval  0    0\n",
       "sub_len               0    0\n",
       "gender_label          0    0\n",
       "level_last_label      0    0\n",
       "dtype: int64"
      ]
     },
     "execution_count": 42,
     "metadata": {},
     "output_type": "execute_result"
    }
   ],
   "source": [
    "df_final_3.select([count(when(isnan(col), col)).alias(col) for col in df_final_3.columns]) \\\n",
    "            .toPandas().unstack()"
   ]
  },
  {
   "cell_type": "markdown",
   "metadata": {},
   "source": [
    "There's no null values in our dataset. If there's any null values, we could use `Imputer` to impute these."
   ]
  },
  {
   "cell_type": "markdown",
   "metadata": {},
   "source": [
    "## D-2. Build default model and evaluate"
   ]
  },
  {
   "cell_type": "code",
   "execution_count": 43,
   "metadata": {},
   "outputs": [],
   "source": [
    "def eval_model(pred_val, pred_test):\n",
    "    evaluator = MulticlassClassificationEvaluator(predictionCol='prediction', labelCol=y_col)\n",
    "    \n",
    "    f1_val = evaluator.evaluate(pred_val, {evaluator.metricName: 'f1'})\n",
    "    ac_val = evaluator.evaluate(pred_val, {evaluator.metricName: 'accuracy'})\n",
    "    \n",
    "    f1_test = evaluator.evaluate(pred_test, {evaluator.metricName: 'f1'})\n",
    "    ac_test = evaluator.evaluate(pred_test, {evaluator.metricName: 'accuracy'})\n",
    "    \n",
    "    eval_series = pd.Series({'F1_Val': f1_val, \n",
    "                                        'Accuracy_Val': ac_val,\n",
    "                                        'F1_Test': f1_test,\n",
    "                                        'Accuracy_Test' :ac_test })\n",
    "    \n",
    "    return eval_series"
   ]
  },
  {
   "cell_type": "code",
   "execution_count": 44,
   "metadata": {},
   "outputs": [],
   "source": [
    "seed = 1077\n",
    "\n",
    "X_col = [col for col in df_final_3.columns if col!='churn']\n",
    "y_col = 'churn'"
   ]
  },
  {
   "cell_type": "markdown",
   "metadata": {},
   "source": [
    "We'll build the pipeline `pipeline_1` for preprocessing."
   ]
  },
  {
   "cell_type": "code",
   "execution_count": 45,
   "metadata": {},
   "outputs": [],
   "source": [
    "vec_assembler = VectorAssembler(inputCols=X_col, outputCol='features')\n",
    "scaler = MinMaxScaler(inputCol='features', outputCol='features_scaled')\n",
    "\n",
    "pipeline_1 = Pipeline(stages = [vec_assembler, scaler]) # for preprocessing\n",
    "\n",
    "input_df = pipeline_1.fit(df_final_3).transform(df_final_3)\n",
    "\n",
    "# Split data into train+val and test\n",
    "train_temp, test = input_df.randomSplit([.8, .2], seed=seed)\n",
    "\n",
    "# Split train into train and val\n",
    "train, val = train_temp.randomSplit([.8, .2], seed=seed)"
   ]
  },
  {
   "cell_type": "markdown",
   "metadata": {},
   "source": [
    "Because of our memory, we'll try `LogisticRegression`, `RandomForestClassifier`, `GBTClassifier` for our dataset with default settings chunk by chunk."
   ]
  },
  {
   "cell_type": "code",
   "execution_count": 46,
   "metadata": {},
   "outputs": [
    {
     "name": "stdout",
     "output_type": "stream",
     "text": [
      "CPU times: user 171 ms, sys: 82.9 ms, total: 254 ms\n",
      "Wall time: 1min 34s\n"
     ]
    }
   ],
   "source": [
    "%%time\n",
    "\n",
    "lr = LogisticRegression(labelCol=y_col, featuresCol='features_scaled')\n",
    "\n",
    "model_lr = lr.fit(train)\n",
    "pred_lr_val = model_lr.transform(val)\n",
    "pred_lr_test = model_lr.transform(test)\n",
    "\n",
    "eval_lr = eval_model(pred_lr_val, pred_lr_test)"
   ]
  },
  {
   "cell_type": "code",
   "execution_count": 47,
   "metadata": {},
   "outputs": [
    {
     "name": "stdout",
     "output_type": "stream",
     "text": [
      "CPU times: user 186 ms, sys: 86.3 ms, total: 273 ms\n",
      "Wall time: 1min 44s\n"
     ]
    }
   ],
   "source": [
    "%%time\n",
    "\n",
    "rf = RandomForestClassifier(labelCol=y_col, featuresCol='features_scaled')\n",
    "\n",
    "model_rf = rf.fit(train)\n",
    "pred_rf_val = model_rf.transform(val)\n",
    "pred_rf_test = model_rf.transform(test)\n",
    "\n",
    "eval_rf = eval_model(pred_rf_val, pred_rf_test)"
   ]
  },
  {
   "cell_type": "code",
   "execution_count": 48,
   "metadata": {},
   "outputs": [
    {
     "name": "stdout",
     "output_type": "stream",
     "text": [
      "CPU times: user 179 ms, sys: 77.6 ms, total: 256 ms\n",
      "Wall time: 1min 10s\n"
     ]
    }
   ],
   "source": [
    "%%time\n",
    "\n",
    "gbt = GBTClassifier(labelCol=y_col, featuresCol='features_scaled')\n",
    "\n",
    "model_gbt = gbt.fit(train)\n",
    "pred_gbt_val = model_gbt.transform(val)\n",
    "pred_gbt_test = model_gbt.transform(test)\n",
    "\n",
    "eval_gbt = eval_model(pred_gbt_val, pred_gbt_test)"
   ]
  },
  {
   "cell_type": "markdown",
   "metadata": {},
   "source": [
    "**Since spark session keep being disconnected because of memory, we saved the result of default model evaluation as `eval_default_result.pkl`.**"
   ]
  },
  {
   "cell_type": "code",
   "execution_count": 49,
   "metadata": {},
   "outputs": [],
   "source": [
    "eval_default_result = pd.concat([eval_lr.rename('LogisticRegression'),\n",
    "                                                  eval_rf.rename('RandomForest'),\n",
    "                                                  eval_gbt.rename('GradientBoosting')], axis=1)\n",
    "\n",
    "# save\n",
    "with open('eval_default_result.pkl', 'wb') as f:\n",
    "    pickle.dump(eval_default_result, f, pickle.HIGHEST_PROTOCOL)"
   ]
  },
  {
   "cell_type": "code",
   "execution_count": 50,
   "metadata": {},
   "outputs": [
    {
     "data": {
      "text/html": [
       "<div>\n",
       "<style scoped>\n",
       "    .dataframe tbody tr th:only-of-type {\n",
       "        vertical-align: middle;\n",
       "    }\n",
       "\n",
       "    .dataframe tbody tr th {\n",
       "        vertical-align: top;\n",
       "    }\n",
       "\n",
       "    .dataframe thead th {\n",
       "        text-align: right;\n",
       "    }\n",
       "</style>\n",
       "<table border=\"1\" class=\"dataframe\">\n",
       "  <thead>\n",
       "    <tr style=\"text-align: right;\">\n",
       "      <th></th>\n",
       "      <th>LogisticRegression</th>\n",
       "      <th>RandomForest</th>\n",
       "      <th>GradientBoosting</th>\n",
       "    </tr>\n",
       "  </thead>\n",
       "  <tbody>\n",
       "    <tr>\n",
       "      <th>F1_Val</th>\n",
       "      <td>0.772906</td>\n",
       "      <td>0.782828</td>\n",
       "      <td>0.732268</td>\n",
       "    </tr>\n",
       "    <tr>\n",
       "      <th>Accuracy_Val</th>\n",
       "      <td>0.787879</td>\n",
       "      <td>0.818182</td>\n",
       "      <td>0.757576</td>\n",
       "    </tr>\n",
       "    <tr>\n",
       "      <th>F1_Test</th>\n",
       "      <td>0.794132</td>\n",
       "      <td>0.707483</td>\n",
       "      <td>0.753720</td>\n",
       "    </tr>\n",
       "    <tr>\n",
       "      <th>Accuracy_Test</th>\n",
       "      <td>0.809524</td>\n",
       "      <td>0.761905</td>\n",
       "      <td>0.761905</td>\n",
       "    </tr>\n",
       "  </tbody>\n",
       "</table>\n",
       "</div>"
      ],
      "text/plain": [
       "               LogisticRegression  RandomForest  GradientBoosting\n",
       "F1_Val                   0.772906      0.782828          0.732268\n",
       "Accuracy_Val             0.787879      0.818182          0.757576\n",
       "F1_Test                  0.794132      0.707483          0.753720\n",
       "Accuracy_Test            0.809524      0.761905          0.761905"
      ]
     },
     "execution_count": 50,
     "metadata": {},
     "output_type": "execute_result"
    }
   ],
   "source": [
    "# # load\n",
    "# with open('eval_default_result.pkl', 'rb') as f:\n",
    "#     eval_default_result = pickle.load(f)\n",
    "    \n",
    "eval_default_result"
   ]
  },
  {
   "cell_type": "markdown",
   "metadata": {},
   "source": [
    "**We can see that `LogisticRegression`'s F1 score is highest among three models. So we'll use this for our final output.**"
   ]
  },
  {
   "cell_type": "code",
   "execution_count": 54,
   "metadata": {},
   "outputs": [],
   "source": [
    "model_lr.save('sparkify_logistic_ver1.pkl')"
   ]
  },
  {
   "cell_type": "markdown",
   "metadata": {},
   "source": [
    "## D-3. Hyperparameter tuning (skipped)"
   ]
  },
  {
   "cell_type": "markdown",
   "metadata": {},
   "source": [
    "**To sorrow, our memory couldn't handle this CV task. So we wrote the codes and commented out them.**"
   ]
  },
  {
   "cell_type": "code",
   "execution_count": 51,
   "metadata": {},
   "outputs": [],
   "source": [
    "def create_CV(train, feature_cols, classifier, parameters):\n",
    "    '''\n",
    "    Create a cross validation object and return a trained model\n",
    "    \n",
    "    - Input\n",
    "    train: training dataset\n",
    "    feature_cols: column names of dataset (X_col in this notebook)\n",
    "    classifier: spark ml classification algorithm\n",
    "    paramaters: parameter list for grid search\n",
    "    \n",
    "    - Output\n",
    "    cv_fitted: train-fitted cv model\n",
    "    '''\n",
    "\n",
    "    model = CrossValidator(\n",
    "        estimator=classifier,\n",
    "        estimatorParamMaps=parameters,\n",
    "        evaluator = MulticlassClassificationEvaluator(labelCol=y_col,\n",
    "                                                                                metricName='f1'),\n",
    "                                                                                numFolds=3)\n",
    "    cv_fitted = model.fit(train)\n",
    "    \n",
    "    return cv_fitted"
   ]
  },
  {
   "cell_type": "code",
   "execution_count": 52,
   "metadata": {},
   "outputs": [],
   "source": [
    "# %%time \n",
    "\n",
    "## Get best model via CV task\n",
    "\n",
    "# lr = LogisticRegression(labelCol=y_col, featuresCol='features_scaled')\n",
    "# param_grid = ParamGridBuilder().addGrid(lr.regParam, [0.01, 0.1, 1.0, 10.0]) \\\n",
    "#                                                     .addGrid(lr.elasticNetParam, [0.0, 0.5, 1.0]).build()\n",
    "\n",
    "# model_lr_best = create_CV(train, X_col, lr, param_grid)"
   ]
  },
  {
   "cell_type": "code",
   "execution_count": 53,
   "metadata": {},
   "outputs": [],
   "source": [
    "## Get metrics of our best model\n",
    "\n",
    "# pred_best_lr_val = model_lr_best.transform(val)\n",
    "# pred_best_lr_test = model_lr_best.transform(test)\n",
    "\n",
    "# eval_best_lr = eval_model(pred_best_lr_val, pred_best_lr_test)\n",
    "# print(eval_best_lr)"
   ]
  },
  {
   "cell_type": "markdown",
   "metadata": {},
   "source": [
    "## D-4. See feature importance"
   ]
  },
  {
   "cell_type": "code",
   "execution_count": 60,
   "metadata": {},
   "outputs": [
    {
     "data": {
      "text/plain": [
       "DenseVector([-3.1385, 1.7383, -2.9929, -5.859, -3.071, 4.6552, -5.7142, 0.8973, 3.7607, -1.2649, -5.0575, 3.7748, 2.86, -11.1971, 10.3566, 2.0163, 2.6417, -8.3102, -28.5643, -10.0754, -9.3514, -22.0573, -7.1193, 0.0842, -4.5277])"
      ]
     },
     "execution_count": 60,
     "metadata": {},
     "output_type": "execute_result"
    }
   ],
   "source": [
    "model_lr.coefficients"
   ]
  },
  {
   "cell_type": "code",
   "execution_count": 61,
   "metadata": {},
   "outputs": [
    {
     "data": {
      "text/html": [
       "<div>\n",
       "<style scoped>\n",
       "    .dataframe tbody tr th:only-of-type {\n",
       "        vertical-align: middle;\n",
       "    }\n",
       "\n",
       "    .dataframe tbody tr th {\n",
       "        vertical-align: top;\n",
       "    }\n",
       "\n",
       "    .dataframe thead th {\n",
       "        text-align: right;\n",
       "    }\n",
       "</style>\n",
       "<table border=\"1\" class=\"dataframe\">\n",
       "  <thead>\n",
       "    <tr style=\"text-align: right;\">\n",
       "      <th></th>\n",
       "      <th>feature</th>\n",
       "      <th>importance</th>\n",
       "    </tr>\n",
       "  </thead>\n",
       "  <tbody>\n",
       "    <tr>\n",
       "      <th>0</th>\n",
       "      <td>freqThumbs Down</td>\n",
       "      <td>10.356577</td>\n",
       "    </tr>\n",
       "    <tr>\n",
       "      <th>1</th>\n",
       "      <td>freqDowngrade</td>\n",
       "      <td>4.655152</td>\n",
       "    </tr>\n",
       "    <tr>\n",
       "      <th>2</th>\n",
       "      <td>freqRoll Advert</td>\n",
       "      <td>3.774832</td>\n",
       "    </tr>\n",
       "    <tr>\n",
       "      <th>3</th>\n",
       "      <td>freqHome</td>\n",
       "      <td>3.760709</td>\n",
       "    </tr>\n",
       "    <tr>\n",
       "      <th>4</th>\n",
       "      <td>freqSave Settings</td>\n",
       "      <td>2.859969</td>\n",
       "    </tr>\n",
       "    <tr>\n",
       "      <th>5</th>\n",
       "      <td>freqUpgrade</td>\n",
       "      <td>2.641740</td>\n",
       "    </tr>\n",
       "    <tr>\n",
       "      <th>6</th>\n",
       "      <td>freqThumbs Up</td>\n",
       "      <td>2.016255</td>\n",
       "    </tr>\n",
       "    <tr>\n",
       "      <th>7</th>\n",
       "      <td>Submit Downgrade</td>\n",
       "      <td>1.738344</td>\n",
       "    </tr>\n",
       "    <tr>\n",
       "      <th>8</th>\n",
       "      <td>freqHelp</td>\n",
       "      <td>0.897338</td>\n",
       "    </tr>\n",
       "    <tr>\n",
       "      <th>9</th>\n",
       "      <td>gender_label</td>\n",
       "      <td>0.084201</td>\n",
       "    </tr>\n",
       "    <tr>\n",
       "      <th>10</th>\n",
       "      <td>freqLogout</td>\n",
       "      <td>-1.264857</td>\n",
       "    </tr>\n",
       "    <tr>\n",
       "      <th>11</th>\n",
       "      <td>Submit Upgrade</td>\n",
       "      <td>-2.992901</td>\n",
       "    </tr>\n",
       "    <tr>\n",
       "      <th>12</th>\n",
       "      <td>freqAdd to Playlist</td>\n",
       "      <td>-3.070977</td>\n",
       "    </tr>\n",
       "    <tr>\n",
       "      <th>13</th>\n",
       "      <td>Add Friend</td>\n",
       "      <td>-3.138507</td>\n",
       "    </tr>\n",
       "    <tr>\n",
       "      <th>14</th>\n",
       "      <td>level_last_label</td>\n",
       "      <td>-4.527665</td>\n",
       "    </tr>\n",
       "    <tr>\n",
       "      <th>15</th>\n",
       "      <td>freqNextSong</td>\n",
       "      <td>-5.057481</td>\n",
       "    </tr>\n",
       "    <tr>\n",
       "      <th>16</th>\n",
       "      <td>freqError</td>\n",
       "      <td>-5.714242</td>\n",
       "    </tr>\n",
       "    <tr>\n",
       "      <th>17</th>\n",
       "      <td>freqAbout</td>\n",
       "      <td>-5.859034</td>\n",
       "    </tr>\n",
       "    <tr>\n",
       "      <th>18</th>\n",
       "      <td>sub_len</td>\n",
       "      <td>-7.119285</td>\n",
       "    </tr>\n",
       "    <tr>\n",
       "      <th>19</th>\n",
       "      <td>song_cnt_uniq</td>\n",
       "      <td>-8.310177</td>\n",
       "    </tr>\n",
       "    <tr>\n",
       "      <th>20</th>\n",
       "      <td>avg_ses_duration</td>\n",
       "      <td>-9.351419</td>\n",
       "    </tr>\n",
       "    <tr>\n",
       "      <th>21</th>\n",
       "      <td>same_artist_ratio</td>\n",
       "      <td>-10.075438</td>\n",
       "    </tr>\n",
       "    <tr>\n",
       "      <th>22</th>\n",
       "      <td>freqSettings</td>\n",
       "      <td>-11.197137</td>\n",
       "    </tr>\n",
       "    <tr>\n",
       "      <th>23</th>\n",
       "      <td>avg_ses_dur_interval</td>\n",
       "      <td>-22.057263</td>\n",
       "    </tr>\n",
       "    <tr>\n",
       "      <th>24</th>\n",
       "      <td>session_cnt_uniq</td>\n",
       "      <td>-28.564324</td>\n",
       "    </tr>\n",
       "  </tbody>\n",
       "</table>\n",
       "</div>"
      ],
      "text/plain": [
       "                 feature  importance\n",
       "0        freqThumbs Down   10.356577\n",
       "1          freqDowngrade    4.655152\n",
       "2        freqRoll Advert    3.774832\n",
       "3               freqHome    3.760709\n",
       "4      freqSave Settings    2.859969\n",
       "5            freqUpgrade    2.641740\n",
       "6          freqThumbs Up    2.016255\n",
       "7       Submit Downgrade    1.738344\n",
       "8               freqHelp    0.897338\n",
       "9           gender_label    0.084201\n",
       "10            freqLogout   -1.264857\n",
       "11        Submit Upgrade   -2.992901\n",
       "12   freqAdd to Playlist   -3.070977\n",
       "13            Add Friend   -3.138507\n",
       "14      level_last_label   -4.527665\n",
       "15          freqNextSong   -5.057481\n",
       "16             freqError   -5.714242\n",
       "17             freqAbout   -5.859034\n",
       "18               sub_len   -7.119285\n",
       "19         song_cnt_uniq   -8.310177\n",
       "20      avg_ses_duration   -9.351419\n",
       "21     same_artist_ratio  -10.075438\n",
       "22          freqSettings  -11.197137\n",
       "23  avg_ses_dur_interval  -22.057263\n",
       "24      session_cnt_uniq  -28.564324"
      ]
     },
     "execution_count": 61,
     "metadata": {},
     "output_type": "execute_result"
    }
   ],
   "source": [
    "fi_df = pd.DataFrame()\n",
    "fi_df['feature'] = X_col\n",
    "fi_df['importance'] = model_lr.coefficients.values\n",
    "\n",
    "fi_df = fi_df.sort_values(by = 'importance', ascending = False).reset_index(drop=True)\n",
    "fi_df"
   ]
  },
  {
   "cell_type": "markdown",
   "metadata": {},
   "source": [
    "We could see that `freqThumbs Down`, `freqDowngrade`, `freqRoll Advert` and `freqHome` have a large effect on whether user become churn or not. This seems quite make sense because these values related to user's dissatisfaction."
   ]
  },
  {
   "cell_type": "markdown",
   "metadata": {},
   "source": [
    "# E. Findings & Conclusion"
   ]
  },
  {
   "cell_type": "markdown",
   "metadata": {},
   "source": [
    "We built a churn detecting model with small-medium sized event data. If we could predict whether user will quit our service or not, we could treat these users with various remedies before they quit. (ex: give them coupons or send them event push alarm, etc)\n",
    "\n",
    "Because of lack of computing power, we couldn't do cross validation for obtaining best model. If our computing power is much stronger than now, we could use more various models and various techniques(ensemble method like stacking, etc) to get best predictions."
   ]
  },
  {
   "cell_type": "markdown",
   "metadata": {},
   "source": [
    "# F. Final Steps\n",
    "Clean up your code, adding comments and renaming variables to make the code easier to read and maintain. Refer to the Spark Project Overview page and Data Scientist Capstone Project Rubric to make sure you are including all components of the capstone project and meet all expectations. Remember, this includes thorough documentation in a README file in a Github repository, as well as a web app or blog post."
   ]
  }
 ],
 "metadata": {
  "kernelspec": {
   "display_name": "Python 3",
   "language": "python",
   "name": "python3"
  },
  "language_info": {
   "codemirror_mode": {
    "name": "ipython",
    "version": 3
   },
   "file_extension": ".py",
   "mimetype": "text/x-python",
   "name": "python",
   "nbconvert_exporter": "python",
   "pygments_lexer": "ipython3",
   "version": "3.6.9"
  }
 },
 "nbformat": 4,
 "nbformat_minor": 2
}
