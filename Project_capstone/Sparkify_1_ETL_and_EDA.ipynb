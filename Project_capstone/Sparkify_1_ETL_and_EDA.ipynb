{
 "cells": [
  {
   "cell_type": "markdown",
   "metadata": {},
   "source": [
    "# Sparkify Project Workspace\n",
    "This workspace contains a tiny subset (128MB) of the full dataset available (12GB). Feel free to use this workspace to build your project, or to explore a smaller subset with Spark before deploying your cluster on the cloud. Instructions for setting up your Spark cluster is included in the last lesson of the Extracurricular Spark Course content.\n",
    "\n",
    "You can follow the steps below to guide your data analysis and model building portion of this project."
   ]
  },
  {
   "cell_type": "code",
   "execution_count": 1,
   "metadata": {},
   "outputs": [],
   "source": [
    "# import libraries\n",
    "from pyspark.sql import SparkSession\n",
    "from pyspark.sql.functions import udf, avg, stddev, split, isnull, first, when, last, \n",
    "from pyspark.sql.functions import col, format_number, rand, countDistinct, count, desc\n",
    "from pyspark.sql.functions import sum as s_sum\n",
    "from pyspark.sql.functions import max as s_max\n",
    "from pyspark.sql.functions import min as s_min\n",
    "from pyspark.sql.types import StringType\n",
    "from pyspark.sql.types import IntegerType\n",
    "from pyspark.sql.functions import desc\n",
    "from pyspark.sql.functions import asc\n",
    "\n",
    "import os\n",
    "import seaborn as sns\n",
    "import pandas as pd\n",
    "import matplotlib.pyplot as plt"
   ]
  },
  {
   "cell_type": "code",
   "execution_count": 2,
   "metadata": {},
   "outputs": [],
   "source": [
    "# create a Spark session\n",
    "spark = SparkSession \\\n",
    "    .builder \\\n",
    "    .appName(\"Sparkify_Data\") \\\n",
    "    .getOrCreate()"
   ]
  },
  {
   "cell_type": "markdown",
   "metadata": {},
   "source": [
    "# A. Load and Clean Dataset\n",
    "In this workspace, the mini-dataset file is `mini_sparkify_event_data.json`. Load and clean the dataset, checking for invalid or missing data - for example, records without userids or sessionids. "
   ]
  },
  {
   "cell_type": "markdown",
   "metadata": {},
   "source": [
    "## 1. Load"
   ]
  },
  {
   "cell_type": "code",
   "execution_count": 3,
   "metadata": {},
   "outputs": [
    {
     "name": "stdout",
     "output_type": "stream",
     "text": [
      "root\n",
      " |-- artist: string (nullable = true)\n",
      " |-- auth: string (nullable = true)\n",
      " |-- firstName: string (nullable = true)\n",
      " |-- gender: string (nullable = true)\n",
      " |-- itemInSession: long (nullable = true)\n",
      " |-- lastName: string (nullable = true)\n",
      " |-- length: double (nullable = true)\n",
      " |-- level: string (nullable = true)\n",
      " |-- location: string (nullable = true)\n",
      " |-- method: string (nullable = true)\n",
      " |-- page: string (nullable = true)\n",
      " |-- registration: long (nullable = true)\n",
      " |-- sessionId: long (nullable = true)\n",
      " |-- song: string (nullable = true)\n",
      " |-- status: long (nullable = true)\n",
      " |-- ts: long (nullable = true)\n",
      " |-- userAgent: string (nullable = true)\n",
      " |-- userId: string (nullable = true)\n",
      "\n"
     ]
    }
   ],
   "source": [
    "df = spark.read.json('mini_sparkify_event_data.json')\n",
    "df.printSchema()"
   ]
  },
  {
   "cell_type": "code",
   "execution_count": 4,
   "metadata": {},
   "outputs": [
    {
     "data": {
      "text/plain": [
       "18"
      ]
     },
     "execution_count": 4,
     "metadata": {},
     "output_type": "execute_result"
    }
   ],
   "source": [
    "len(df.columns)"
   ]
  },
  {
   "cell_type": "code",
   "execution_count": 5,
   "metadata": {
    "scrolled": true
   },
   "outputs": [
    {
     "data": {
      "text/plain": [
       "286500"
      ]
     },
     "execution_count": 5,
     "metadata": {},
     "output_type": "execute_result"
    }
   ],
   "source": [
    "df.count()"
   ]
  },
  {
   "cell_type": "code",
   "execution_count": 6,
   "metadata": {
    "scrolled": true
   },
   "outputs": [
    {
     "name": "stdout",
     "output_type": "stream",
     "text": [
      "+-------+-----------------+\n",
      "|summary|           userId|\n",
      "+-------+-----------------+\n",
      "|  count|           286500|\n",
      "|   mean|59682.02278593872|\n",
      "| stddev|109091.9499991047|\n",
      "|    min|                 |\n",
      "|    max|               99|\n",
      "+-------+-----------------+\n",
      "\n",
      "+-------+-----------------+\n",
      "|summary|        sessionId|\n",
      "+-------+-----------------+\n",
      "|  count|           286500|\n",
      "|   mean|1041.526554973822|\n",
      "| stddev|726.7762634630741|\n",
      "|    min|                1|\n",
      "|    max|             2474|\n",
      "+-------+-----------------+\n",
      "\n"
     ]
    }
   ],
   "source": [
    "df.describe('userId').show()\n",
    "df.describe('sessionId').show()"
   ]
  },
  {
   "cell_type": "markdown",
   "metadata": {},
   "source": [
    "There are 18 columns and 286,500 rows in our dataset. Among those columns, columns named `userId` and `sessionId` will play important role as the key."
   ]
  },
  {
   "cell_type": "markdown",
   "metadata": {},
   "source": [
    "## 2. Cleansing"
   ]
  },
  {
   "cell_type": "markdown",
   "metadata": {},
   "source": [
    "From above `df.describe(userId).show()`, we could find that it's minimum value is little awkward. Let's find and delete NaNs and empty strings."
   ]
  },
  {
   "cell_type": "code",
   "execution_count": 7,
   "metadata": {},
   "outputs": [
    {
     "name": "stdout",
     "output_type": "stream",
     "text": [
      "---- NaN values in each columns\n",
      "artist: 58392\n",
      "auth: 0\n",
      "firstName: 8346\n",
      "gender: 8346\n",
      "itemInSession: 0\n",
      "lastName: 8346\n",
      "length: 58392\n",
      "level: 0\n",
      "location: 8346\n",
      "method: 0\n",
      "page: 0\n",
      "registration: 8346\n",
      "sessionId: 0\n",
      "song: 58392\n",
      "status: 0\n",
      "ts: 0\n",
      "userAgent: 8346\n",
      "userId: 0\n",
      "---------------------------------\n",
      "---- Empty strings in each columns\n",
      "artist: 0\n",
      "auth: 0\n",
      "firstName: 0\n",
      "gender: 0\n",
      "itemInSession: 0\n",
      "lastName: 0\n",
      "length: 0\n",
      "level: 0\n",
      "location: 0\n",
      "method: 0\n",
      "page: 0\n",
      "registration: 0\n",
      "sessionId: 0\n",
      "song: 0\n",
      "status: 0\n",
      "ts: 0\n",
      "userAgent: 0\n",
      "userId: 8346\n"
     ]
    }
   ],
   "source": [
    "print('---- NaN values in each columns')\n",
    "for col in df.columns:\n",
    "    print('{}: {}'.format(col, df.filter(isnull(df[col])).count()))\n",
    "    \n",
    "print('---------------------------------')\n",
    "print('---- Empty strings in each columns')\n",
    "for col in df.columns:\n",
    "    print('{}: {}'.format(col, df.filter(df[col]=='').count()))"
   ]
  },
  {
   "cell_type": "markdown",
   "metadata": {},
   "source": [
    "We saw 8,346 empty strings in `userId`, so let's delete these."
   ]
  },
  {
   "cell_type": "code",
   "execution_count": 8,
   "metadata": {},
   "outputs": [
    {
     "data": {
      "text/plain": [
       "278154"
      ]
     },
     "execution_count": 8,
     "metadata": {},
     "output_type": "execute_result"
    }
   ],
   "source": [
    "df_cleaned = df.filter(df['userId']!='')\n",
    "df_cleaned.count()"
   ]
  },
  {
   "cell_type": "markdown",
   "metadata": {},
   "source": [
    "Also, like in the lecture, we should correct the type of `ts` column. Its type should be `datetime`, so we'll make additional datetime column named `time`."
   ]
  },
  {
   "cell_type": "code",
   "execution_count": 9,
   "metadata": {},
   "outputs": [],
   "source": [
    "change_into_dt = udf(lambda x: datetime.datetime.fromtimestamp(x / 1000.0).strftime(\"%Y-%m-%d %H:%M:%S\"))\n",
    "\n",
    "#Apply the udf on the ts column\n",
    "df_cleaned = df_cleaned.withColumn(\"time\", change_into_dt(df_cleaned.ts))"
   ]
  },
  {
   "cell_type": "code",
   "execution_count": 10,
   "metadata": {},
   "outputs": [
    {
     "name": "stdout",
     "output_type": "stream",
     "text": [
      "root\n",
      " |-- artist: string (nullable = true)\n",
      " |-- auth: string (nullable = true)\n",
      " |-- firstName: string (nullable = true)\n",
      " |-- gender: string (nullable = true)\n",
      " |-- itemInSession: long (nullable = true)\n",
      " |-- lastName: string (nullable = true)\n",
      " |-- length: double (nullable = true)\n",
      " |-- level: string (nullable = true)\n",
      " |-- location: string (nullable = true)\n",
      " |-- method: string (nullable = true)\n",
      " |-- page: string (nullable = true)\n",
      " |-- registration: long (nullable = true)\n",
      " |-- sessionId: long (nullable = true)\n",
      " |-- song: string (nullable = true)\n",
      " |-- status: long (nullable = true)\n",
      " |-- ts: long (nullable = true)\n",
      " |-- userAgent: string (nullable = true)\n",
      " |-- userId: string (nullable = true)\n",
      " |-- time: string (nullable = true)\n",
      "\n"
     ]
    }
   ],
   "source": [
    "df_cleaned.printSchema()"
   ]
  },
  {
   "cell_type": "code",
   "execution_count": 11,
   "metadata": {},
   "outputs": [
    {
     "data": {
      "text/plain": [
       "DataFrame[artist: string, auth: string, firstName: string, gender: string, itemInSession: bigint, lastName: string, length: double, level: string, location: string, method: string, page: string, registration: bigint, sessionId: bigint, song: string, status: bigint, ts: bigint, userAgent: string, userId: string, time: string]"
      ]
     },
     "execution_count": 11,
     "metadata": {},
     "output_type": "execute_result"
    }
   ],
   "source": [
    "df_cleaned"
   ]
  },
  {
   "cell_type": "markdown",
   "metadata": {},
   "source": [
    "# B. Exploratory Data Analysis\n",
    "When you're working with the full dataset, perform EDA by loading a small subset of the data and doing basic manipulations within Spark. In this workspace, you are already provided a small subset of data you can explore."
   ]
  },
  {
   "cell_type": "markdown",
   "metadata": {},
   "source": [
    "## 1. Basic EDA\n",
    "\n",
    "First, let's do basic eda. We'll verify numerical and categorical columns each."
   ]
  },
  {
   "cell_type": "code",
   "execution_count": 12,
   "metadata": {},
   "outputs": [],
   "source": [
    "# df_cleaned.createOrReplaceGlobalTempView(\"Sparkify_Data_cleaned\")"
   ]
  },
  {
   "cell_type": "code",
   "execution_count": 13,
   "metadata": {},
   "outputs": [],
   "source": [
    "numerical_cols = []\n",
    "categoric_cols = []\n",
    "\n",
    "for s in df.schema:\n",
    "    data_type = str(s.dataType)\n",
    "    if data_type == \"StringType\":\n",
    "        categoric_cols.append(s.name)\n",
    "    \n",
    "    if data_type == \"LongType\" or data_type == \"DoubleType\":\n",
    "        numerical_cols.append(s.name)"
   ]
  },
  {
   "cell_type": "markdown",
   "metadata": {},
   "source": [
    "### 1-1. Numerical Columns"
   ]
  },
  {
   "cell_type": "code",
   "execution_count": 14,
   "metadata": {},
   "outputs": [
    {
     "data": {
      "text/plain": [
       "['itemInSession', 'length', 'registration', 'sessionId', 'status', 'ts']"
      ]
     },
     "execution_count": 14,
     "metadata": {},
     "output_type": "execute_result"
    }
   ],
   "source": [
    "numerical_cols"
   ]
  },
  {
   "cell_type": "code",
   "execution_count": 15,
   "metadata": {},
   "outputs": [
    {
     "name": "stdout",
     "output_type": "stream",
     "text": [
      "+-------+------------------+-----------------+--------------------+------------------+------------------+--------------------+\n",
      "|summary|     itemInSession|           length|        registration|         sessionId|            status|                  ts|\n",
      "+-------+------------------+-----------------+--------------------+------------------+------------------+--------------------+\n",
      "|  count|            278154|           228108|              278154|            278154|            278154|              278154|\n",
      "|   mean|114.89918174824018|249.1171819778458|1.535358834084427...|1042.5616241362698|209.10321620397335|1.540958915431871...|\n",
      "| stddev|  129.851729399489|99.23517921058361| 3.291321616327586E9| 726.5010362219813|30.151388851328214|1.5068287123306298E9|\n",
      "|    min|                 0|          0.78322|       1521380675000|                 1|               200|       1538352117000|\n",
      "|    max|              1321|       3024.66567|       1543247354000|              2474|               404|       1543799476000|\n",
      "+-------+------------------+-----------------+--------------------+------------------+------------------+--------------------+\n",
      "\n"
     ]
    }
   ],
   "source": [
    "df_cleaned.describe(numerical_cols).show()"
   ]
  },
  {
   "cell_type": "code",
   "execution_count": 16,
   "metadata": {},
   "outputs": [
    {
     "name": "stdout",
     "output_type": "stream",
     "text": [
      "+------+----------+\n",
      "|status|status_cnt|\n",
      "+------+----------+\n",
      "|   200|    254718|\n",
      "|   307|     23184|\n",
      "|   404|       252|\n",
      "+------+----------+\n",
      "\n"
     ]
    }
   ],
   "source": [
    "df_cleaned.select(\"status\") \\\n",
    "     .groupBy(\"status\") \\\n",
    "     .agg({'status' : 'count'}) \\\n",
    "     .withColumnRenamed('count(status)', 'status_cnt') \\\n",
    "     .sort(desc('status_cnt')) \\\n",
    "     .show()"
   ]
  },
  {
   "cell_type": "markdown",
   "metadata": {},
   "source": [
    "There are 3 status in our dataset. Each of them means  \n",
    "- 307: Temporary Redirect\n",
    "- 404: Not Found\n",
    "- 200: OK"
   ]
  },
  {
   "cell_type": "markdown",
   "metadata": {},
   "source": [
    "The distribution of `length` is right skewed."
   ]
  },
  {
   "cell_type": "code",
   "execution_count": 17,
   "metadata": {},
   "outputs": [
    {
     "name": "stdout",
     "output_type": "stream",
     "text": [
      "+-------------+------+\n",
      "|           ts|ts_cnt|\n",
      "+-------------+------+\n",
      "|1543376608000|     4|\n",
      "|1538786140000|     4|\n",
      "|1538832860000|     3|\n",
      "|1540869687000|     3|\n",
      "|1543271891000|     3|\n",
      "|1542848987000|     3|\n",
      "|1538858551000|     3|\n",
      "|1541682160000|     3|\n",
      "|1539070175000|     3|\n",
      "|1538512769000|     3|\n",
      "|1539191076000|     3|\n",
      "|1539996675000|     3|\n",
      "|1542663435000|     3|\n",
      "|1541518229000|     3|\n",
      "|1541544871000|     3|\n",
      "|1539682547000|     3|\n",
      "|1541101796000|     3|\n",
      "|1539247652000|     3|\n",
      "|1539721234000|     3|\n",
      "|1540456067000|     3|\n",
      "+-------------+------+\n",
      "only showing top 20 rows\n",
      "\n"
     ]
    }
   ],
   "source": [
    "df_cleaned.select(\"ts\") \\\n",
    "     .groupBy(\"ts\") \\\n",
    "     .agg({'ts' : 'count'}) \\\n",
    "     .withColumnRenamed('count(ts)', 'ts_cnt') \\\n",
    "     .sort(desc('ts_cnt')) \\\n",
    "     .show()"
   ]
  },
  {
   "cell_type": "markdown",
   "metadata": {},
   "source": [
    "`ts` seems to be time stamp."
   ]
  },
  {
   "cell_type": "markdown",
   "metadata": {},
   "source": [
    "### 1-2. Categorical Columns"
   ]
  },
  {
   "cell_type": "code",
   "execution_count": 18,
   "metadata": {},
   "outputs": [
    {
     "data": {
      "text/plain": [
       "['artist',\n",
       " 'auth',\n",
       " 'firstName',\n",
       " 'gender',\n",
       " 'lastName',\n",
       " 'level',\n",
       " 'location',\n",
       " 'method',\n",
       " 'page',\n",
       " 'song',\n",
       " 'userAgent',\n",
       " 'userId']"
      ]
     },
     "execution_count": 18,
     "metadata": {},
     "output_type": "execute_result"
    }
   ],
   "source": [
    "categoric_cols"
   ]
  },
  {
   "cell_type": "markdown",
   "metadata": {},
   "source": [
    "Let's see their distribution briefly."
   ]
  },
  {
   "cell_type": "code",
   "execution_count": 19,
   "metadata": {
    "scrolled": false
   },
   "outputs": [
    {
     "name": "stdout",
     "output_type": "stream",
     "text": [
      "+---------+--------+\n",
      "|     auth|auth_cnt|\n",
      "+---------+--------+\n",
      "|Logged In|  278102|\n",
      "|Cancelled|      52|\n",
      "+---------+--------+\n",
      "\n",
      "+------+----------+\n",
      "|gender|gender_cnt|\n",
      "+------+----------+\n",
      "|     F|    154578|\n",
      "|     M|    123576|\n",
      "+------+----------+\n",
      "\n",
      "+-----+---------+\n",
      "|level|level_cnt|\n",
      "+-----+---------+\n",
      "| paid|   222433|\n",
      "| free|    55721|\n",
      "+-----+---------+\n",
      "\n",
      "+------+----------+\n",
      "|method|method_cnt|\n",
      "+------+----------+\n",
      "|   PUT|    257818|\n",
      "|   GET|     20336|\n",
      "+------+----------+\n",
      "\n",
      "+--------------------+--------+\n",
      "|                page|page_cnt|\n",
      "+--------------------+--------+\n",
      "|            NextSong|  228108|\n",
      "|           Thumbs Up|   12551|\n",
      "|                Home|   10082|\n",
      "|     Add to Playlist|    6526|\n",
      "|          Add Friend|    4277|\n",
      "|         Roll Advert|    3933|\n",
      "|              Logout|    3226|\n",
      "|         Thumbs Down|    2546|\n",
      "|           Downgrade|    2055|\n",
      "|            Settings|    1514|\n",
      "|                Help|    1454|\n",
      "|             Upgrade|     499|\n",
      "|               About|     495|\n",
      "|       Save Settings|     310|\n",
      "|               Error|     252|\n",
      "|      Submit Upgrade|     159|\n",
      "|    Submit Downgrade|      63|\n",
      "|              Cancel|      52|\n",
      "|Cancellation Conf...|      52|\n",
      "+--------------------+--------+\n",
      "\n"
     ]
    }
   ],
   "source": [
    "for col in ['auth', 'gender', 'level', 'method', 'page']:\n",
    "#     df_cleaned.select(col).dropDuplicates().show()\n",
    "    df_cleaned.select(col) \\\n",
    "         .groupBy(col) \\\n",
    "         .agg({col : 'count'}) \\\n",
    "         .withColumnRenamed('count({})'.format(col), '{}_cnt'.format(col)) \\\n",
    "         .sort(desc('{}_cnt'.format(col))) \\\n",
    "         .show()"
   ]
  },
  {
   "cell_type": "markdown",
   "metadata": {},
   "source": [
    "Maybe we should focus on **`Cancellation Conf...`** and **`Downgrade`** to think about churn."
   ]
  },
  {
   "cell_type": "markdown",
   "metadata": {},
   "source": [
    "Let's see how many users in our dataset and how many users have paid to sparkify."
   ]
  },
  {
   "cell_type": "code",
   "execution_count": 20,
   "metadata": {},
   "outputs": [
    {
     "name": "stdout",
     "output_type": "stream",
     "text": [
      "# of users: 225\n",
      "# of paid users: 165\n",
      "# of free users: 195\n"
     ]
    }
   ],
   "source": [
    "n_users = df_cleaned.select('userId').dropDuplicates().count()\n",
    "n_users_paid = df_cleaned.select(['userId', 'level']) \\\n",
    "                        .filter(df_cleaned['level']=='paid') \\\n",
    "                        .select('userId') \\\n",
    "                        .dropDuplicates() \\\n",
    "                        .count()\n",
    "n_users_free = df_cleaned.select(['userId', 'level']) \\\n",
    "                        .filter(df_cleaned['level']=='free') \\\n",
    "                        .select('userId') \\\n",
    "                        .dropDuplicates() \\\n",
    "                        .count()\n",
    "\n",
    "print('# of users: {}'.format(n_users))\n",
    "print('# of paid users: {}'.format(n_users_paid))\n",
    "print('# of free users: {}'.format(n_users_free))"
   ]
  },
  {
   "cell_type": "markdown",
   "metadata": {},
   "source": [
    "There are 225 users in our dataset. We could also see that users who have both paid and free level, because 225!=165+195. Let's see them."
   ]
  },
  {
   "cell_type": "code",
   "execution_count": 21,
   "metadata": {},
   "outputs": [
    {
     "data": {
      "text/plain": [
       "135"
      ]
     },
     "execution_count": 21,
     "metadata": {},
     "output_type": "execute_result"
    }
   ],
   "source": [
    "df_cleaned.filter(df_cleaned['level']=='free') \\\n",
    "        .select('userId').dropDuplicates() \\\n",
    "        .intersect(\n",
    "            df_cleaned.filter(df_cleaned['level']=='paid') \\\n",
    "            .select('userId').dropDuplicates() \\\n",
    "            ) \\\n",
    "        .count()"
   ]
  },
  {
   "cell_type": "markdown",
   "metadata": {},
   "source": [
    "It seems that there are 135 users who experienced both paid and free level in our app."
   ]
  },
  {
   "cell_type": "markdown",
   "metadata": {},
   "source": [
    "### 1-3. See how specific user's log looks like"
   ]
  },
  {
   "cell_type": "markdown",
   "metadata": {},
   "source": [
    "Since there are too many rows to see at once, we'll limit first 1,000 rows only to see specific user's log."
   ]
  },
  {
   "cell_type": "code",
   "execution_count": 22,
   "metadata": {},
   "outputs": [
    {
     "name": "stdout",
     "output_type": "stream",
     "text": [
      "+------+\n",
      "|userId|\n",
      "+------+\n",
      "|    30|\n",
      "|     9|\n",
      "|    30|\n",
      "|     9|\n",
      "|    30|\n",
      "|     9|\n",
      "|     9|\n",
      "|    30|\n",
      "|    30|\n",
      "|    30|\n",
      "|     9|\n",
      "|     9|\n",
      "|    30|\n",
      "|     9|\n",
      "|     9|\n",
      "|    30|\n",
      "|     9|\n",
      "|    74|\n",
      "|    30|\n",
      "|     9|\n",
      "+------+\n",
      "only showing top 20 rows\n",
      "\n"
     ]
    }
   ],
   "source": [
    "df_cleaned.select('userId').show()"
   ]
  },
  {
   "cell_type": "code",
   "execution_count": 23,
   "metadata": {
    "scrolled": false
   },
   "outputs": [
    {
     "name": "stdout",
     "output_type": "stream",
     "text": [
      "+---------------+------+---------+------+-----+--------------------+\n",
      "|           page|userId|     auth|status|level|                song|\n",
      "+---------------+------+---------+------+-----+--------------------+\n",
      "|       NextSong|    30|Logged In|   200| paid|           Rockpools|\n",
      "|       NextSong|    30|Logged In|   200| paid|   Time For Miracles|\n",
      "|       NextSong|    30|Logged In|   200| paid|Harder Better Fas...|\n",
      "|       NextSong|    30|Logged In|   200| paid|Passengers (Old A...|\n",
      "|Add to Playlist|    30|Logged In|   200| paid|                null|\n",
      "|       NextSong|    30|Logged In|   200| paid|          Fuck Kitty|\n",
      "|       NextSong|    30|Logged In|   200| paid|                Jade|\n",
      "|       NextSong|    30|Logged In|   200| paid|   So-Called Friends|\n",
      "|       NextSong|    30|Logged In|   200| paid|           Represent|\n",
      "|       NextSong|    30|Logged In|   200| paid|           Here I Am|\n",
      "|       NextSong|    30|Logged In|   200| paid|Rebirthing (Album...|\n",
      "|       NextSong|    30|Logged In|   200| paid|Dog Days Are Over...|\n",
      "|       NextSong|    30|Logged In|   200| paid|Tomorrow Is A Lon...|\n",
      "|       NextSong|    30|Logged In|   200| paid|    Halloween Spooks|\n",
      "|       NextSong|    30|Logged In|   200| paid|            Stronger|\n",
      "|       NextSong|    30|Logged In|   200| paid|   Dis Iz Brick City|\n",
      "|       NextSong|    30|Logged In|   200| paid|          Move Along|\n",
      "|       NextSong|    30|Logged In|   200| paid|           Manhattan|\n",
      "|       NextSong|    30|Logged In|   200| paid|                Undo|\n",
      "|       NextSong|    30|Logged In|   200| paid|     The Big Gundown|\n",
      "+---------------+------+---------+------+-----+--------------------+\n",
      "only showing top 20 rows\n",
      "\n"
     ]
    }
   ],
   "source": [
    "df_cleaned.limit(1000) \\\n",
    "        .select(['page', 'userId', 'auth', 'status', 'level', 'song'])\\\n",
    "        .where(df_cleaned.userId == '30').show()"
   ]
  },
  {
   "cell_type": "markdown",
   "metadata": {},
   "source": [
    "We could see various behavior of each user like above. Among behaviors, we should focus on **how `level` changed from `paid` into `free`** to think about churn."
   ]
  },
  {
   "cell_type": "markdown",
   "metadata": {},
   "source": [
    "## 2. Define Churn\n",
    "\n",
    "Once you've done some preliminary analysis, create a column `Churn` to use as the label for your model. I suggest using the `Cancellation Confirmation` events to define your churn, which happen for both paid and free users. As a bonus task, you can also look into the `Downgrade` events."
   ]
  },
  {
   "cell_type": "markdown",
   "metadata": {},
   "source": [
    "To define new variable `churn`, we'll use `Cancellation Confirmation` value in `page` column."
   ]
  },
  {
   "cell_type": "code",
   "execution_count": 24,
   "metadata": {},
   "outputs": [],
   "source": [
    "churn_users = df_cleaned.filter(df_cleaned.page == \"Cancellation Confirmation\") \\\n",
    "                .select(\"userId\").dropDuplicates().collect()\n",
    "churn_user_lst = [str(row.userId) for row in churn_users]"
   ]
  },
  {
   "cell_type": "code",
   "execution_count": 25,
   "metadata": {},
   "outputs": [],
   "source": [
    "df_cleaned_stmp = df_cleaned.withColumn('churn', \n",
    "                                        when(df_cleaned.userId.isin(churn_user_lst), 1) \\\n",
    "                                        .otherwise(0))"
   ]
  },
  {
   "cell_type": "markdown",
   "metadata": {},
   "source": [
    "Let's see how many users have canceled their subscription."
   ]
  },
  {
   "cell_type": "code",
   "execution_count": 26,
   "metadata": {},
   "outputs": [],
   "source": [
    "churn_O_users = df_cleaned_stmp.filter(df_cleaned_stmp['churn']==1) \\\n",
    "                                .select('userId').dropDuplicates()\n",
    "churn_X_users = df_cleaned_stmp.filter(df_cleaned_stmp['churn']==0) \\\n",
    "                                .select('userId').dropDuplicates()"
   ]
  },
  {
   "cell_type": "code",
   "execution_count": 27,
   "metadata": {},
   "outputs": [
    {
     "name": "stdout",
     "output_type": "stream",
     "text": [
      "User counts / churn--------\n",
      "O: 52\n",
      "X: 173\n"
     ]
    }
   ],
   "source": [
    "print('User counts / churn--------')\n",
    "print('O: {}'.format(churn_O_users.count()))\n",
    "print('X: {}'.format(churn_X_users.count()))"
   ]
  },
  {
   "cell_type": "markdown",
   "metadata": {},
   "source": [
    "There are 52 users who canceled the service."
   ]
  },
  {
   "cell_type": "markdown",
   "metadata": {},
   "source": [
    "## 3. Explore Data\n",
    "Once you've defined churn, perform some exploratory data analysis to observe the behavior for **users who stayed vs users who churned.** You can start by exploring aggregates on these two groups of users, observing how much of a specific action they experienced per a certain time unit or number of songs played."
   ]
  },
  {
   "cell_type": "code",
   "execution_count": 28,
   "metadata": {},
   "outputs": [
    {
     "name": "stdout",
     "output_type": "stream",
     "text": [
      "root\n",
      " |-- artist: string (nullable = true)\n",
      " |-- auth: string (nullable = true)\n",
      " |-- firstName: string (nullable = true)\n",
      " |-- gender: string (nullable = true)\n",
      " |-- itemInSession: long (nullable = true)\n",
      " |-- lastName: string (nullable = true)\n",
      " |-- length: double (nullable = true)\n",
      " |-- level: string (nullable = true)\n",
      " |-- location: string (nullable = true)\n",
      " |-- method: string (nullable = true)\n",
      " |-- page: string (nullable = true)\n",
      " |-- registration: long (nullable = true)\n",
      " |-- sessionId: long (nullable = true)\n",
      " |-- song: string (nullable = true)\n",
      " |-- status: long (nullable = true)\n",
      " |-- ts: long (nullable = true)\n",
      " |-- userAgent: string (nullable = true)\n",
      " |-- userId: string (nullable = true)\n",
      " |-- time: string (nullable = true)\n",
      " |-- churn: integer (nullable = false)\n",
      "\n"
     ]
    }
   ],
   "source": [
    "df_cleaned_stmp.printSchema()"
   ]
  },
  {
   "cell_type": "markdown",
   "metadata": {},
   "source": [
    "### 3-1. Artist"
   ]
  },
  {
   "cell_type": "markdown",
   "metadata": {},
   "source": [
    "We'll count how many artists in `NextSong` page, because we thought this could affect to churn."
   ]
  },
  {
   "cell_type": "code",
   "execution_count": 29,
   "metadata": {},
   "outputs": [
    {
     "name": "stdout",
     "output_type": "stream",
     "text": [
      "+------+-----+------------+-----------+\n",
      "|userId|churn|artist_whole|artist_uniq|\n",
      "+------+-----+------------+-----------+\n",
      "|    19|    0|         216|        197|\n",
      "|100005|    1|         154|        149|\n",
      "|300007|    1|         111|        107|\n",
      "|200007|    0|          65|         64|\n",
      "|    50|    0|         503|        423|\n",
      "|200002|    0|         387|        339|\n",
      "|    30|    0|        1417|       1018|\n",
      "|     8|    0|         251|        230|\n",
      "|100012|    1|         476|        397|\n",
      "|100011|    1|          11|         11|\n",
      "+------+-----+------------+-----------+\n",
      "only showing top 10 rows\n",
      "\n"
     ]
    }
   ],
   "source": [
    "cnt_artist = df_cleaned_stmp.filter(df_cleaned_stmp['page']=='NextSong') \\\n",
    "                            .groupby(['userId', 'churn']) \\\n",
    "                            .agg(count('artist').alias('artist_whole'), \n",
    "                                 countDistinct('artist').alias('artist_uniq'))\n",
    "\n",
    "cnt_artist.show(10)"
   ]
  },
  {
   "cell_type": "markdown",
   "metadata": {},
   "source": [
    "We could see the average number of artists also."
   ]
  },
  {
   "cell_type": "code",
   "execution_count": 30,
   "metadata": {},
   "outputs": [
    {
     "name": "stdout",
     "output_type": "stream",
     "text": [
      "+-----+-----------------+------------------+\n",
      "|churn| avg(artist_uniq)| avg(artist_whole)|\n",
      "+-----+-----------------+------------------+\n",
      "|    1|518.6923076923077| 699.8846153846154|\n",
      "|    0|749.7861271676301|1108.1734104046243|\n",
      "+-----+-----------------+------------------+\n",
      "\n"
     ]
    }
   ],
   "source": [
    "avg_artist = cnt_artist.groupby('churn') \\\n",
    "                        .agg({'artist_whole':'mean', 'artist_uniq':'mean'})\n",
    "avg_artist.show(3)"
   ]
  },
  {
   "cell_type": "markdown",
   "metadata": {},
   "source": [
    "We could say that **churn users seem to listen less artists than normal users**."
   ]
  },
  {
   "cell_type": "markdown",
   "metadata": {},
   "source": [
    "### 3-2. Auth"
   ]
  },
  {
   "cell_type": "code",
   "execution_count": 31,
   "metadata": {},
   "outputs": [
    {
     "name": "stdout",
     "output_type": "stream",
     "text": [
      "+---------+------+---------+------+-----+-----+\n",
      "|     page|userId|     auth|status|level|churn|\n",
      "+---------+------+---------+------+-----+-----+\n",
      "| NextSong|    54|Logged In|   200| paid|    1|\n",
      "| NextSong|    54|Logged In|   200| paid|    1|\n",
      "| NextSong|    54|Logged In|   200| paid|    1|\n",
      "| NextSong|    54|Logged In|   200| paid|    1|\n",
      "|Downgrade|    54|Logged In|   200| paid|    1|\n",
      "| NextSong|    54|Logged In|   200| paid|    1|\n",
      "| NextSong|    54|Logged In|   200| paid|    1|\n",
      "|Thumbs Up|    54|Logged In|   307| paid|    1|\n",
      "|     Home|   101|Logged In|   200| free|    1|\n",
      "| NextSong|   101|Logged In|   200| free|    1|\n",
      "| NextSong|   101|Logged In|   200| free|    1|\n",
      "| NextSong|   101|Logged In|   200| free|    1|\n",
      "| NextSong|   101|Logged In|   200| free|    1|\n",
      "| NextSong|   101|Logged In|   200| free|    1|\n",
      "|     Help|   101|Logged In|   200| free|    1|\n",
      "| NextSong|   101|Logged In|   200| free|    1|\n",
      "| NextSong|   101|Logged In|   200| free|    1|\n",
      "| NextSong|   101|Logged In|   200| free|    1|\n",
      "| NextSong|   101|Logged In|   200| free|    1|\n",
      "| NextSong|   101|Logged In|   200| free|    1|\n",
      "+---------+------+---------+------+-----+-----+\n",
      "only showing top 20 rows\n",
      "\n"
     ]
    }
   ],
   "source": [
    "df_cleaned_stmp.select(['page', 'userId', 'auth', 'status', 'level', 'churn']) \\\n",
    "            .filter(df_cleaned_stmp['churn']==1).show()"
   ]
  },
  {
   "cell_type": "code",
   "execution_count": 32,
   "metadata": {},
   "outputs": [
    {
     "name": "stdout",
     "output_type": "stream",
     "text": [
      "+--------------------+-----+\n",
      "|                page|count|\n",
      "+--------------------+-----+\n",
      "|              Cancel|   52|\n",
      "|    Submit Downgrade|    9|\n",
      "|         Thumbs Down|   48|\n",
      "|                Home|   51|\n",
      "|           Downgrade|   35|\n",
      "|         Roll Advert|   50|\n",
      "|              Logout|   46|\n",
      "|       Save Settings|   30|\n",
      "|Cancellation Conf...|   52|\n",
      "|               About|   31|\n",
      "|            Settings|   43|\n",
      "|     Add to Playlist|   50|\n",
      "|          Add Friend|   44|\n",
      "|            NextSong|   52|\n",
      "|           Thumbs Up|   50|\n",
      "|                Help|   43|\n",
      "|             Upgrade|   37|\n",
      "|               Error|   22|\n",
      "|      Submit Upgrade|   29|\n",
      "+--------------------+-----+\n",
      "\n",
      "+---------+-----+\n",
      "|     auth|count|\n",
      "+---------+-----+\n",
      "|Cancelled|   52|\n",
      "|Logged In|  722|\n",
      "+---------+-----+\n",
      "\n"
     ]
    }
   ],
   "source": [
    "to_see_auth = df_cleaned_stmp.filter(df_cleaned_stmp['churn']==1) \\\n",
    "                            .select(['userId', 'page', 'auth']) \\\n",
    "                            .dropDuplicates()\n",
    "\n",
    "to_see_auth.groupBy('page').count().show()\n",
    "to_see_auth.groupBy('auth').count().show()"
   ]
  },
  {
   "cell_type": "markdown",
   "metadata": {},
   "source": [
    "It seems that the all user who is in the page `Cancellation Confirmation` has `Cancelled` auth value. So we decided to drop this column. "
   ]
  },
  {
   "cell_type": "code",
   "execution_count": 33,
   "metadata": {},
   "outputs": [],
   "source": [
    "df_cleaned_stmp = df_cleaned_stmp.drop('auth')\n",
    "del to_see_auth"
   ]
  },
  {
   "cell_type": "markdown",
   "metadata": {},
   "source": [
    "### 3-3. firstName, lastName, gender"
   ]
  },
  {
   "cell_type": "markdown",
   "metadata": {},
   "source": [
    "Maybe among demographic columns(including `location`), two features related to name are too unique. So we'll drop them also."
   ]
  },
  {
   "cell_type": "code",
   "execution_count": 34,
   "metadata": {},
   "outputs": [
    {
     "name": "stdout",
     "output_type": "stream",
     "text": [
      "root\n",
      " |-- artist: string (nullable = true)\n",
      " |-- gender: string (nullable = true)\n",
      " |-- itemInSession: long (nullable = true)\n",
      " |-- length: double (nullable = true)\n",
      " |-- level: string (nullable = true)\n",
      " |-- location: string (nullable = true)\n",
      " |-- method: string (nullable = true)\n",
      " |-- page: string (nullable = true)\n",
      " |-- registration: long (nullable = true)\n",
      " |-- sessionId: long (nullable = true)\n",
      " |-- song: string (nullable = true)\n",
      " |-- status: long (nullable = true)\n",
      " |-- ts: long (nullable = true)\n",
      " |-- userAgent: string (nullable = true)\n",
      " |-- userId: string (nullable = true)\n",
      " |-- time: string (nullable = true)\n",
      " |-- churn: integer (nullable = false)\n",
      "\n"
     ]
    }
   ],
   "source": [
    "df_cleaned_stmp = df_cleaned_stmp.drop('firstName')\n",
    "df_cleaned_stmp = df_cleaned_stmp.drop('lastName')\n",
    "df_cleaned_stmp.printSchema()"
   ]
  },
  {
   "cell_type": "markdown",
   "metadata": {},
   "source": [
    "Let's see `gender` features."
   ]
  },
  {
   "cell_type": "code",
   "execution_count": 35,
   "metadata": {
    "scrolled": true
   },
   "outputs": [
    {
     "name": "stdout",
     "output_type": "stream",
     "text": [
      "+------+-------------------+\n",
      "|gender|         avg(churn)|\n",
      "+------+-------------------+\n",
      "|     F|0.12400212190609272|\n",
      "|     M|0.20793681621026736|\n",
      "+------+-------------------+\n",
      "\n"
     ]
    }
   ],
   "source": [
    "df_cleaned_stmp.groupby('gender').agg({'churn':'mean'}).show()"
   ]
  },
  {
   "cell_type": "code",
   "execution_count": 36,
   "metadata": {},
   "outputs": [
    {
     "name": "stdout",
     "output_type": "stream",
     "text": [
      "+------+-------------------+\n",
      "|gender|    avg(avg(churn))|\n",
      "+------+-------------------+\n",
      "|     F|0.19230769230769232|\n",
      "|     M| 0.2644628099173554|\n",
      "+------+-------------------+\n",
      "\n"
     ]
    }
   ],
   "source": [
    "to_see_gender = df_cleaned_stmp.groupby(['gender', 'userId']) \\\n",
    "                                .agg({'churn':'mean'})\n",
    "\n",
    "to_see_gender.groupby('gender').agg({'avg(churn)':'mean'}).show()"
   ]
  },
  {
   "cell_type": "markdown",
   "metadata": {},
   "source": [
    "**Female users tend to settle down to our service than male users.**"
   ]
  },
  {
   "cell_type": "markdown",
   "metadata": {},
   "source": [
    "### 3-4. itemInSession"
   ]
  },
  {
   "cell_type": "markdown",
   "metadata": {},
   "source": [
    "This feature is also just a number for items in session, we'll drop this also."
   ]
  },
  {
   "cell_type": "code",
   "execution_count": 37,
   "metadata": {},
   "outputs": [],
   "source": [
    "df_cleaned_stmp = df_cleaned_stmp.drop('itemInSession')"
   ]
  },
  {
   "cell_type": "markdown",
   "metadata": {},
   "source": [
    "### 3-5. length"
   ]
  },
  {
   "cell_type": "markdown",
   "metadata": {},
   "source": [
    "We thought that this feature have important role for predicting churn. We'll analyze average listening duration. Let's get the aggregated length sum of each user first."
   ]
  },
  {
   "cell_type": "code",
   "execution_count": 38,
   "metadata": {},
   "outputs": [
    {
     "name": "stdout",
     "output_type": "stream",
     "text": [
      "+------+-----+------------------+\n",
      "|userId|churn|       sum(length)|\n",
      "+------+-----+------------------+\n",
      "|    19|    0|54480.933869999986|\n",
      "|100005|    1| 37037.12201000001|\n",
      "|200007|    0|15739.869310000002|\n",
      "|300007|    1| 28028.71048000002|\n",
      "|    50|    0|122751.27560999991|\n",
      "|200002|    0| 94008.87593999993|\n",
      "|    30|    0| 359808.2456399997|\n",
      "|     8|    0| 63393.53190999996|\n",
      "|100011|    1|         2841.6995|\n",
      "|100012|    1|115503.35311000001|\n",
      "+------+-----+------------------+\n",
      "only showing top 10 rows\n",
      "\n"
     ]
    }
   ],
   "source": [
    "to_see_length = df_cleaned_stmp.filter(df_cleaned_stmp['page']=='NextSong') \\\n",
    "                                .groupby(['userId', 'churn']) \\\n",
    "                                .agg({'length':'sum'})\n",
    "to_see_length.show(10)"
   ]
  },
  {
   "cell_type": "markdown",
   "metadata": {},
   "source": [
    "Next we'll calculate the average of length sum."
   ]
  },
  {
   "cell_type": "code",
   "execution_count": 39,
   "metadata": {},
   "outputs": [
    {
     "name": "stdout",
     "output_type": "stream",
     "text": [
      "+-----+------------------+\n",
      "|churn|  avg(sum(length))|\n",
      "+-----+------------------+\n",
      "|    1| 174014.2685513462|\n",
      "|    0|276166.93746780336|\n",
      "+-----+------------------+\n",
      "\n"
     ]
    }
   ],
   "source": [
    "to_see_length.groupby('churn').agg({'sum(length)':'mean'}).show()"
   ]
  },
  {
   "cell_type": "markdown",
   "metadata": {},
   "source": [
    "**We could see that churns tend to play less songs than others!**"
   ]
  },
  {
   "cell_type": "markdown",
   "metadata": {},
   "source": [
    "### 3-6. level"
   ]
  },
  {
   "cell_type": "markdown",
   "metadata": {},
   "source": [
    "Whether `level` feature has changed from `paid` to `free` or not may play crucial role. To analyze this, we'll investigate the very last `level` feature of each users before changed into churn."
   ]
  },
  {
   "cell_type": "code",
   "execution_count": 40,
   "metadata": {},
   "outputs": [
    {
     "name": "stdout",
     "output_type": "stream",
     "text": [
      "+------+-----+----------+---------+\n",
      "|userId|churn|level_last|level_cnt|\n",
      "+------+-----+----------+---------+\n",
      "|    19|    0|      paid|      259|\n",
      "|100005|    1|      free|      216|\n",
      "|200007|    0|      paid|       76|\n",
      "|300007|    1|      paid|      143|\n",
      "|200002|    0|      paid|      474|\n",
      "|    50|    0|      paid|      651|\n",
      "|100011|    1|      free|       23|\n",
      "|100012|    1|      free|      600|\n",
      "|    30|    0|      paid|     1775|\n",
      "|     8|    0|      free|      334|\n",
      "|     4|    0|      paid|     2442|\n",
      "|    65|    0|      paid|     2544|\n",
      "|   101|    1|      paid|     2149|\n",
      "|    13|    0|      free|     1654|\n",
      "|   153|    0|      paid|     1131|\n",
      "+------+-----+----------+---------+\n",
      "only showing top 15 rows\n",
      "\n"
     ]
    }
   ],
   "source": [
    "to_see_level = df_cleaned_stmp.groupby(['userId', 'churn']) \\\n",
    "                            .agg(last('level').alias('level_last'),\n",
    "                                 count('level').alias('level_cnt'))\n",
    "to_see_level.show(15)"
   ]
  },
  {
   "cell_type": "code",
   "execution_count": 41,
   "metadata": {},
   "outputs": [
    {
     "name": "stdout",
     "output_type": "stream",
     "text": [
      "+----------+-------------------+\n",
      "|level_last|         avg(churn)|\n",
      "+----------+-------------------+\n",
      "|      free|             0.2625|\n",
      "|      paid|0.21379310344827587|\n",
      "+----------+-------------------+\n",
      "\n"
     ]
    }
   ],
   "source": [
    "to_see_level.groupby('level_last').agg({'churn':'mean'}).show()"
   ]
  },
  {
   "cell_type": "markdown",
   "metadata": {},
   "source": [
    "It seems that about 26% of free users and 21% of paid users experienced churn."
   ]
  },
  {
   "cell_type": "markdown",
   "metadata": {},
   "source": [
    "### 3-7. location"
   ]
  },
  {
   "cell_type": "code",
   "execution_count": 42,
   "metadata": {},
   "outputs": [
    {
     "name": "stdout",
     "output_type": "stream",
     "text": [
      "+------+--------------------+---------+\n",
      "|userId|            location|churn_avg|\n",
      "+------+--------------------+---------+\n",
      "|    86|    Jacksonville, FL|      0.0|\n",
      "|    14|        Syracuse, NY|      0.0|\n",
      "|    77|     Gainesville, FL|      0.0|\n",
      "|200007|New York-Newark-J...|      0.0|\n",
      "|    46|Los Angeles-Long ...|      0.0|\n",
      "|    70|         Jackson, MS|      1.0|\n",
      "|300012|Miami-Fort Lauder...|      0.0|\n",
      "|    96|Atlantic City-Ham...|      0.0|\n",
      "|    90|Seattle-Tacoma-Be...|      0.0|\n",
      "|    54|Spokane-Spokane V...|      1.0|\n",
      "+------+--------------------+---------+\n",
      "only showing top 10 rows\n",
      "\n"
     ]
    }
   ],
   "source": [
    "to_see_loc = df_cleaned_stmp.groupby(['userId', 'location']) \\\n",
    "                            .agg(avg('churn').alias('churn_avg'))\n",
    "to_see_loc.show(10)"
   ]
  },
  {
   "cell_type": "markdown",
   "metadata": {},
   "source": [
    "We should see whether there's a difference in churn rate between locations or not."
   ]
  },
  {
   "cell_type": "code",
   "execution_count": 43,
   "metadata": {},
   "outputs": [
    {
     "name": "stdout",
     "output_type": "stream",
     "text": [
      "+--------------------+------------------+\n",
      "|            location|        churn_rate|\n",
      "+--------------------+------------------+\n",
      "|     Gainesville, FL|               0.0|\n",
      "|Atlantic City-Ham...|               0.0|\n",
      "|San Diego-Carlsba...|0.3333333333333333|\n",
      "|Deltona-Daytona B...|               0.0|\n",
      "|Cleveland-Elyria, OH|               1.0|\n",
      "+--------------------+------------------+\n",
      "only showing top 5 rows\n",
      "\n"
     ]
    }
   ],
   "source": [
    "loc_churn_rate = to_see_loc.groupby('location').agg(avg('churn_avg').alias('churn_rate'))\n",
    "loc_churn_rate.show(5)"
   ]
  },
  {
   "cell_type": "code",
   "execution_count": 44,
   "metadata": {},
   "outputs": [
    {
     "data": {
      "image/png": "[encoded data removed]",
      "text/plain": [
       "<matplotlib.figure.Figure at 0x7ff082aa8668>"
      ]
     },
     "metadata": {
      "needs_background": "light"
     },
     "output_type": "display_data"
    }
   ],
   "source": [
    "fig = plt.figure(figsize = (30,10))\n",
    "sns.barplot(x = 'location', y = 'churn_rate', data = loc_churn_rate.toPandas())\n",
    "plt.xticks(rotation = 90)\n",
    "plt.show()"
   ]
  },
  {
   "cell_type": "markdown",
   "metadata": {},
   "source": [
    "Definitely there's a difference between locations."
   ]
  },
  {
   "cell_type": "markdown",
   "metadata": {},
   "source": [
    "### 3-8. method"
   ]
  },
  {
   "cell_type": "markdown",
   "metadata": {},
   "source": [
    "This is also meaningless, so we'll drop this too."
   ]
  },
  {
   "cell_type": "code",
   "execution_count": 45,
   "metadata": {},
   "outputs": [],
   "source": [
    "df_cleaned_stmp = df_cleaned_stmp.drop('method') "
   ]
  },
  {
   "cell_type": "markdown",
   "metadata": {},
   "source": [
    "### 3-9. page"
   ]
  },
  {
   "cell_type": "markdown",
   "metadata": {},
   "source": [
    "Maybe this column is critical, so we'll make the pivot of this and investigate."
   ]
  },
  {
   "cell_type": "code",
   "execution_count": 46,
   "metadata": {},
   "outputs": [
    {
     "data": {
      "text/html": [
       "<div>\n",
       "<style scoped>\n",
       "    .dataframe tbody tr th:only-of-type {\n",
       "        vertical-align: middle;\n",
       "    }\n",
       "\n",
       "    .dataframe tbody tr th {\n",
       "        vertical-align: top;\n",
       "    }\n",
       "\n",
       "    .dataframe thead th {\n",
       "        text-align: right;\n",
       "    }\n",
       "</style>\n",
       "<table border=\"1\" class=\"dataframe\">\n",
       "  <thead>\n",
       "    <tr style=\"text-align: right;\">\n",
       "      <th></th>\n",
       "      <th>userId</th>\n",
       "      <th>churn</th>\n",
       "      <th>About</th>\n",
       "      <th>Add Friend</th>\n",
       "      <th>Add to Playlist</th>\n",
       "      <th>Downgrade</th>\n",
       "      <th>Error</th>\n",
       "      <th>Help</th>\n",
       "      <th>Home</th>\n",
       "      <th>Logout</th>\n",
       "      <th>NextSong</th>\n",
       "      <th>Roll Advert</th>\n",
       "      <th>Save Settings</th>\n",
       "      <th>Settings</th>\n",
       "      <th>Submit Downgrade</th>\n",
       "      <th>Submit Upgrade</th>\n",
       "      <th>Thumbs Down</th>\n",
       "      <th>Thumbs Up</th>\n",
       "      <th>Upgrade</th>\n",
       "    </tr>\n",
       "  </thead>\n",
       "  <tbody>\n",
       "    <tr>\n",
       "      <th>0</th>\n",
       "      <td>19</td>\n",
       "      <td>0</td>\n",
       "      <td>2</td>\n",
       "      <td>4</td>\n",
       "      <td>8</td>\n",
       "      <td>2</td>\n",
       "      <td>0</td>\n",
       "      <td>0</td>\n",
       "      <td>11</td>\n",
       "      <td>8</td>\n",
       "      <td>216</td>\n",
       "      <td>0</td>\n",
       "      <td>0</td>\n",
       "      <td>1</td>\n",
       "      <td>0</td>\n",
       "      <td>0</td>\n",
       "      <td>2</td>\n",
       "      <td>5</td>\n",
       "      <td>0</td>\n",
       "    </tr>\n",
       "    <tr>\n",
       "      <th>1</th>\n",
       "      <td>300007</td>\n",
       "      <td>1</td>\n",
       "      <td>0</td>\n",
       "      <td>4</td>\n",
       "      <td>4</td>\n",
       "      <td>2</td>\n",
       "      <td>0</td>\n",
       "      <td>1</td>\n",
       "      <td>3</td>\n",
       "      <td>0</td>\n",
       "      <td>111</td>\n",
       "      <td>2</td>\n",
       "      <td>1</td>\n",
       "      <td>1</td>\n",
       "      <td>0</td>\n",
       "      <td>0</td>\n",
       "      <td>1</td>\n",
       "      <td>11</td>\n",
       "      <td>0</td>\n",
       "    </tr>\n",
       "    <tr>\n",
       "      <th>2</th>\n",
       "      <td>100005</td>\n",
       "      <td>1</td>\n",
       "      <td>0</td>\n",
       "      <td>3</td>\n",
       "      <td>3</td>\n",
       "      <td>0</td>\n",
       "      <td>0</td>\n",
       "      <td>2</td>\n",
       "      <td>15</td>\n",
       "      <td>3</td>\n",
       "      <td>154</td>\n",
       "      <td>18</td>\n",
       "      <td>0</td>\n",
       "      <td>2</td>\n",
       "      <td>0</td>\n",
       "      <td>0</td>\n",
       "      <td>3</td>\n",
       "      <td>7</td>\n",
       "      <td>4</td>\n",
       "    </tr>\n",
       "    <tr>\n",
       "      <th>3</th>\n",
       "      <td>200007</td>\n",
       "      <td>0</td>\n",
       "      <td>0</td>\n",
       "      <td>1</td>\n",
       "      <td>0</td>\n",
       "      <td>0</td>\n",
       "      <td>1</td>\n",
       "      <td>2</td>\n",
       "      <td>4</td>\n",
       "      <td>1</td>\n",
       "      <td>65</td>\n",
       "      <td>0</td>\n",
       "      <td>0</td>\n",
       "      <td>0</td>\n",
       "      <td>0</td>\n",
       "      <td>0</td>\n",
       "      <td>0</td>\n",
       "      <td>2</td>\n",
       "      <td>0</td>\n",
       "    </tr>\n",
       "    <tr>\n",
       "      <th>4</th>\n",
       "      <td>50</td>\n",
       "      <td>0</td>\n",
       "      <td>2</td>\n",
       "      <td>9</td>\n",
       "      <td>12</td>\n",
       "      <td>2</td>\n",
       "      <td>2</td>\n",
       "      <td>7</td>\n",
       "      <td>25</td>\n",
       "      <td>6</td>\n",
       "      <td>503</td>\n",
       "      <td>37</td>\n",
       "      <td>3</td>\n",
       "      <td>9</td>\n",
       "      <td>0</td>\n",
       "      <td>1</td>\n",
       "      <td>3</td>\n",
       "      <td>27</td>\n",
       "      <td>3</td>\n",
       "    </tr>\n",
       "  </tbody>\n",
       "</table>\n",
       "</div>"
      ],
      "text/plain": [
       "   userId  churn  About  Add Friend  Add to Playlist  Downgrade  Error  Help  \\\n",
       "0      19      0      2           4                8          2      0     0   \n",
       "1  300007      1      0           4                4          2      0     1   \n",
       "2  100005      1      0           3                3          0      0     2   \n",
       "3  200007      0      0           1                0          0      1     2   \n",
       "4      50      0      2           9               12          2      2     7   \n",
       "\n",
       "   Home  Logout  NextSong  Roll Advert  Save Settings  Settings  \\\n",
       "0    11       8       216            0              0         1   \n",
       "1     3       0       111            2              1         1   \n",
       "2    15       3       154           18              0         2   \n",
       "3     4       1        65            0              0         0   \n",
       "4    25       6       503           37              3         9   \n",
       "\n",
       "   Submit Downgrade  Submit Upgrade  Thumbs Down  Thumbs Up  Upgrade  \n",
       "0                 0               0            2          5        0  \n",
       "1                 0               0            1         11        0  \n",
       "2                 0               0            3          7        4  \n",
       "3                 0               0            0          2        0  \n",
       "4                 0               1            3         27        3  "
      ]
     },
     "execution_count": 46,
     "metadata": {},
     "output_type": "execute_result"
    }
   ],
   "source": [
    "page_pivot = df_cleaned_stmp.groupby(['userId', 'churn']).pivot('page').count()\n",
    "\n",
    "## Drop columns related directly to churn\n",
    "page_pivot = page_pivot.drop('Cancel')\n",
    "page_pivot = page_pivot.drop('Cancellation Confirmation')\n",
    "\n",
    "## Fill nans\n",
    "page_pivot = page_pivot.fillna(0)\n",
    "## page_pivot.show(5) is not much readable, so we'll change it via pandas\n",
    "page_pivot = page_pivot.toPandas()\n",
    "page_pivot.head(5)"
   ]
  },
  {
   "cell_type": "code",
   "execution_count": 47,
   "metadata": {
    "scrolled": false
   },
   "outputs": [
    {
     "name": "stdout",
     "output_type": "stream",
     "text": [
      "=====================================\n",
      "  Average Churn of About\n",
      "=====================================\n",
      "churn\n",
      "0    2.537572\n",
      "1    1.076923\n",
      "Name: About, dtype: float64\n"
     ]
    },
    {
     "data": {
      "image/png": "[encoded data removed]",
      "text/plain": [
       "<matplotlib.figure.Figure at 0x7ff0807dac50>"
      ]
     },
     "metadata": {
      "needs_background": "light"
     },
     "output_type": "display_data"
    },
    {
     "name": "stdout",
     "output_type": "stream",
     "text": [
      "=====================================\n",
      "  Average Churn of Add Friend\n",
      "=====================================\n",
      "churn\n",
      "0    21.046243\n",
      "1    12.230769\n",
      "Name: Add Friend, dtype: float64\n"
     ]
    },
    {
     "data": {
      "image/png": "[encoded data removed]",
      "text/plain": [
       "<matplotlib.figure.Figure at 0x7ff0807e6ba8>"
      ]
     },
     "metadata": {
      "needs_background": "light"
     },
     "output_type": "display_data"
    },
    {
     "name": "stdout",
     "output_type": "stream",
     "text": [
      "=====================================\n",
      "  Average Churn of Add to Playlist\n",
      "=====================================\n",
      "churn\n",
      "0    31.722543\n",
      "1    19.961538\n",
      "Name: Add to Playlist, dtype: float64\n"
     ]
    },
    {
     "data": {
      "image/png": "[encoded data removed]",
      "text/plain": [
       "<matplotlib.figure.Figure at 0x7ff080684e80>"
      ]
     },
     "metadata": {
      "needs_background": "light"
     },
     "output_type": "display_data"
    },
    {
     "name": "stdout",
     "output_type": "stream",
     "text": [
      "=====================================\n",
      "  Average Churn of Downgrade\n",
      "=====================================\n",
      "churn\n",
      "0    9.930636\n",
      "1    6.480769\n",
      "Name: Downgrade, dtype: float64\n"
     ]
    },
    {
     "data": {
      "image/png": "[encoded data removed]",
      "text/plain": [
       "<matplotlib.figure.Figure at 0x7ff080695d30>"
      ]
     },
     "metadata": {
      "needs_background": "light"
     },
     "output_type": "display_data"
    },
    {
     "name": "stdout",
     "output_type": "stream",
     "text": [
      "=====================================\n",
      "  Average Churn of Error\n",
      "=====================================\n",
      "churn\n",
      "0    1.271676\n",
      "1    0.615385\n",
      "Name: Error, dtype: float64\n"
     ]
    },
    {
     "data": {
      "image/png": "[encoded data removed]",
      "text/plain": [
       "<matplotlib.figure.Figure at 0x7ff08055b2b0>"
      ]
     },
     "metadata": {
      "needs_background": "light"
     },
     "output_type": "display_data"
    },
    {
     "name": "stdout",
     "output_type": "stream",
     "text": [
      "=====================================\n",
      "  Average Churn of Help\n",
      "=====================================\n",
      "churn\n",
      "0    7.023121\n",
      "1    4.596154\n",
      "Name: Help, dtype: float64\n"
     ]
    },
    {
     "data": {
      "image/png": "[encoded data removed]",
      "text/plain": [
       "<matplotlib.figure.Figure at 0x7ff0805bbf98>"
      ]
     },
     "metadata": {
      "needs_background": "light"
     },
     "output_type": "display_data"
    },
    {
     "name": "stdout",
     "output_type": "stream",
     "text": [
      "=====================================\n",
      "  Average Churn of Home\n",
      "=====================================\n",
      "churn\n",
      "0    48.612717\n",
      "1    32.153846\n",
      "Name: Home, dtype: float64\n"
     ]
    },
    {
     "data": {
      "image/png": "[encoded data removed]",
      "text/plain": [
       "<matplotlib.figure.Figure at 0x7ff080548c50>"
      ]
     },
     "metadata": {
      "needs_background": "light"
     },
     "output_type": "display_data"
    },
    {
     "name": "stdout",
     "output_type": "stream",
     "text": [
      "=====================================\n",
      "  Average Churn of Logout\n",
      "=====================================\n",
      "churn\n",
      "0    15.450867\n",
      "1    10.634615\n",
      "Name: Logout, dtype: float64\n"
     ]
    },
    {
     "data": {
      "image/png": "[encoded data removed]",
      "text/plain": [
       "<matplotlib.figure.Figure at 0x7ff0804802b0>"
      ]
     },
     "metadata": {
      "needs_background": "light"
     },
     "output_type": "display_data"
    },
    {
     "name": "stdout",
     "output_type": "stream",
     "text": [
      "=====================================\n",
      "  Average Churn of NextSong\n",
      "=====================================\n",
      "churn\n",
      "0    1108.173410\n",
      "1     699.884615\n",
      "Name: NextSong, dtype: float64\n"
     ]
    },
    {
     "data": {
      "image/png": "[encoded data removed]",
      "text/plain": [
       "<matplotlib.figure.Figure at 0x7ff0804881d0>"
      ]
     },
     "metadata": {
      "needs_background": "light"
     },
     "output_type": "display_data"
    },
    {
     "name": "stdout",
     "output_type": "stream",
     "text": [
      "=====================================\n",
      "  Average Churn of Roll Advert\n",
      "=====================================\n",
      "churn\n",
      "0    17.144509\n",
      "1    18.596154\n",
      "Name: Roll Advert, dtype: float64\n"
     ]
    },
    {
     "data": {
      "image/png": "[encoded data removed]",
      "text/plain": [
       "<matplotlib.figure.Figure at 0x7ff080a8f668>"
      ]
     },
     "metadata": {
      "needs_background": "light"
     },
     "output_type": "display_data"
    },
    {
     "name": "stdout",
     "output_type": "stream",
     "text": [
      "=====================================\n",
      "  Average Churn of Save Settings\n",
      "=====================================\n",
      "churn\n",
      "0    1.456647\n",
      "1    1.115385\n",
      "Name: Save Settings, dtype: float64\n"
     ]
    },
    {
     "data": {
      "image/png": "[encoded data removed]",
      "text/plain": [
       "<matplotlib.figure.Figure at 0x7ff0804700f0>"
      ]
     },
     "metadata": {
      "needs_background": "light"
     },
     "output_type": "display_data"
    },
    {
     "name": "stdout",
     "output_type": "stream",
     "text": [
      "=====================================\n",
      "  Average Churn of Settings\n",
      "=====================================\n",
      "churn\n",
      "0    7.190751\n",
      "1    5.192308\n",
      "Name: Settings, dtype: float64\n"
     ]
    },
    {
     "data": {
      "image/png": "[encoded data removed]",
      "text/plain": [
       "<matplotlib.figure.Figure at 0x7ff0805eee80>"
      ]
     },
     "metadata": {
      "needs_background": "light"
     },
     "output_type": "display_data"
    },
    {
     "name": "stdout",
     "output_type": "stream",
     "text": [
      "=====================================\n",
      "  Average Churn of Submit Downgrade\n",
      "=====================================\n",
      "churn\n",
      "0    0.312139\n",
      "1    0.173077\n",
      "Name: Submit Downgrade, dtype: float64\n"
     ]
    },
    {
     "data": {
      "image/png": "[encoded data removed]",
      "text/plain": [
       "<matplotlib.figure.Figure at 0x7ff080564668>"
      ]
     },
     "metadata": {
      "needs_background": "light"
     },
     "output_type": "display_data"
    },
    {
     "name": "stdout",
     "output_type": "stream",
     "text": [
      "=====================================\n",
      "  Average Churn of Submit Upgrade\n",
      "=====================================\n",
      "churn\n",
      "0    0.734104\n",
      "1    0.615385\n",
      "Name: Submit Upgrade, dtype: float64\n"
     ]
    },
    {
     "data": {
      "image/png": "[encoded data removed]",
      "text/plain": [
       "<matplotlib.figure.Figure at 0x7ff0804b4f28>"
      ]
     },
     "metadata": {
      "needs_background": "light"
     },
     "output_type": "display_data"
    },
    {
     "name": "stdout",
     "output_type": "stream",
     "text": [
      "=====================================\n",
      "  Average Churn of Thumbs Down\n",
      "=====================================\n",
      "churn\n",
      "0    11.849711\n",
      "1     9.538462\n",
      "Name: Thumbs Down, dtype: float64\n"
     ]
    },
    {
     "data": {
      "image/png": "[encoded data removed]",
      "text/plain": [
       "<matplotlib.figure.Figure at 0x7ff08035fe48>"
      ]
     },
     "metadata": {
      "needs_background": "light"
     },
     "output_type": "display_data"
    },
    {
     "name": "stdout",
     "output_type": "stream",
     "text": [
      "=====================================\n",
      "  Average Churn of Thumbs Up\n",
      "=====================================\n",
      "churn\n",
      "0    61.803468\n",
      "1    35.750000\n",
      "Name: Thumbs Up, dtype: float64\n"
     ]
    },
    {
     "data": {
      "image/png": "[encoded data removed]",
      "text/plain": [
       "<matplotlib.figure.Figure at 0x7ff0803145c0>"
      ]
     },
     "metadata": {
      "needs_background": "light"
     },
     "output_type": "display_data"
    },
    {
     "name": "stdout",
     "output_type": "stream",
     "text": [
      "=====================================\n",
      "  Average Churn of Upgrade\n",
      "=====================================\n",
      "churn\n",
      "0    2.236994\n",
      "1    2.153846\n",
      "Name: Upgrade, dtype: float64\n"
     ]
    },
    {
     "data": {
      "image/png": "[encoded data removed]",
      "text/plain": [
       "<matplotlib.figure.Figure at 0x7ff0802f3320>"
      ]
     },
     "metadata": {
      "needs_background": "light"
     },
     "output_type": "display_data"
    }
   ],
   "source": [
    "for col in page_pivot.columns.drop(['userId', 'churn']):\n",
    "    print('=====================================')\n",
    "    print(f'  Average Churn of {col}')\n",
    "    print('=====================================')\n",
    "    print(page_pivot[['userId', 'churn', col]].groupby('churn').mean()[col])\n",
    "    sns.boxplot(x = 'churn', y = col, data = page_pivot[['userId', 'churn', col]])\n",
    "    plt.title(col)\n",
    "    plt.show()"
   ]
  },
  {
   "cell_type": "code",
   "execution_count": 48,
   "metadata": {},
   "outputs": [],
   "source": [
    "churn_O_values = page_pivot.loc[page_pivot['churn']==1,\n",
    "                                page_pivot.columns.drop(['userId', 'churn'])].mean()\\\n",
    "                            .rename('O')\n",
    "\n",
    "churn_X_values = page_pivot.loc[page_pivot['churn']==0,\n",
    "                                page_pivot.columns.drop(['userId', 'churn'])].mean()\\\n",
    "                            .rename('X')"
   ]
  },
  {
   "cell_type": "code",
   "execution_count": 49,
   "metadata": {},
   "outputs": [
    {
     "data": {
      "text/plain": [
       "<matplotlib.axes._subplots.AxesSubplot at 0x7ff080055390>"
      ]
     },
     "execution_count": 49,
     "metadata": {},
     "output_type": "execute_result"
    },
    {
     "data": {
      "image/png": "[encoded data removed]",
      "text/plain": [
       "<matplotlib.figure.Figure at 0x7ff082b47fd0>"
      ]
     },
     "metadata": {
      "needs_background": "light"
     },
     "output_type": "display_data"
    }
   ],
   "source": [
    "pd.concat([churn_O_values, churn_X_values], axis=1).plot()"
   ]
  },
  {
   "cell_type": "markdown",
   "metadata": {},
   "source": [
    "From above average value and boxplots, we've noticed that\n",
    "\n",
    "- There are definitely some differences in page values between churns and non-churns\n",
    "- Both users have largest value in `Thumbs up` page (No doubt!)\n",
    "- Churn users tend to have smaller values than non-churns in almost pages\n",
    "- Churn users are likely to get more roll-advert\n",
    "- Churn users have smaller values in `Thumbs up` and `Thumbs down` page, which means they don't interact with our service that often."
   ]
  },
  {
   "cell_type": "markdown",
   "metadata": {},
   "source": [
    "### 3-10. registration"
   ]
  },
  {
   "cell_type": "markdown",
   "metadata": {},
   "source": [
    "This feature is a timestamp of registration of each users. Maybe there's a little difference between churns and non-churns(ex: oldest user among churns registered earlier than oldest non-churn). So we'll skip this."
   ]
  },
  {
   "cell_type": "markdown",
   "metadata": {},
   "source": [
    "### 3-11. song"
   ]
  },
  {
   "cell_type": "markdown",
   "metadata": {},
   "source": [
    "We'll focus on songs in the page `NextSong`."
   ]
  },
  {
   "cell_type": "code",
   "execution_count": 50,
   "metadata": {},
   "outputs": [
    {
     "name": "stdout",
     "output_type": "stream",
     "text": [
      "+------+-----+--------+-------------+\n",
      "|userId|churn|song_cnt|song_uniq_cnt|\n",
      "+------+-----+--------+-------------+\n",
      "|    19|    0|     216|          209|\n",
      "|300007|    1|     111|          111|\n",
      "|100005|    1|     154|          153|\n",
      "|200007|    0|      65|           65|\n",
      "|    50|    0|     503|          476|\n",
      "+------+-----+--------+-------------+\n",
      "only showing top 5 rows\n",
      "\n"
     ]
    }
   ],
   "source": [
    "to_see_songs = df_cleaned_stmp.filter(df_cleaned_stmp.page == 'NextSong') \\\n",
    "                            .groupby(['userId', 'churn']) \\\n",
    "                            .agg(count('song').alias('song_cnt'),\n",
    "                                 countDistinct('song').alias('song_uniq_cnt'))\n",
    "to_see_songs.show(5)"
   ]
  },
  {
   "cell_type": "code",
   "execution_count": 51,
   "metadata": {},
   "outputs": [
    {
     "name": "stdout",
     "output_type": "stream",
     "text": [
      "+-----+------------------+------------------+\n",
      "|churn|     avg(song_cnt)|avg(song_uniq_cnt)|\n",
      "+-----+------------------+------------------+\n",
      "|    1| 699.8846153846154| 638.3653846153846|\n",
      "|    0|1108.1734104046243| 975.7687861271677|\n",
      "+-----+------------------+------------------+\n",
      "\n"
     ]
    }
   ],
   "source": [
    "to_see_songs.groupby('churn').agg(avg('song_cnt'), avg('song_uniq_cnt')).show()"
   ]
  },
  {
   "cell_type": "markdown",
   "metadata": {},
   "source": [
    "**Churns tend to play less songs while they use our service.**"
   ]
  },
  {
   "cell_type": "markdown",
   "metadata": {},
   "source": [
    "### 3-12. status"
   ]
  },
  {
   "cell_type": "code",
   "execution_count": 52,
   "metadata": {},
   "outputs": [
    {
     "name": "stdout",
     "output_type": "stream",
     "text": [
      "+-----+------+----------------+\n",
      "|churn|status|status_cnt_total|\n",
      "+-----+------+----------------+\n",
      "|    1|   200|              52|\n",
      "|    0|   200|             173|\n",
      "|    1|   307|              52|\n",
      "|    0|   307|             171|\n",
      "|    1|   404|              22|\n",
      "|    0|   404|              95|\n",
      "+-----+------+----------------+\n",
      "\n"
     ]
    }
   ],
   "source": [
    "df_cleaned_stmp.groupby(['userId', 'status', 'churn']) \\\n",
    "            .agg(count('status').alias('status_cnt')) \\\n",
    "            .groupby(['churn', 'status']) \\\n",
    "            .agg(count('status_cnt').alias('status_cnt_total')) \\\n",
    "            .sort('status').show()"
   ]
  },
  {
   "cell_type": "code",
   "execution_count": 53,
   "metadata": {},
   "outputs": [
    {
     "name": "stdout",
     "output_type": "stream",
     "text": [
      "Churn rate in perspective at status\n",
      "200: 23.11%\n",
      "307: 23.32%\n",
      "404: 18.8%\n"
     ]
    }
   ],
   "source": [
    "print('Churn rate in perspective at status')\n",
    "print(f'200: {round(100*52/(52+173), 2)}%')\n",
    "print(f'307: {round(100*52/(52+171), 2)}%')\n",
    "print(f'404: {round(100*22/(22+95), 2)}%')"
   ]
  },
  {
   "cell_type": "markdown",
   "metadata": {},
   "source": [
    "### 3-13. userAgent"
   ]
  },
  {
   "cell_type": "code",
   "execution_count": 54,
   "metadata": {},
   "outputs": [
    {
     "name": "stdout",
     "output_type": "stream",
     "text": [
      "+--------------------+\n",
      "|           userAgent|\n",
      "+--------------------+\n",
      "|\"Mozilla/5.0 (Mac...|\n",
      "|\"Mozilla/5.0 (Win...|\n",
      "|Mozilla/5.0 (X11;...|\n",
      "|\"Mozilla/5.0 (Mac...|\n",
      "|\"Mozilla/5.0 (Mac...|\n",
      "|Mozilla/5.0 (Maci...|\n",
      "|Mozilla/5.0 (Wind...|\n",
      "|Mozilla/5.0 (Wind...|\n",
      "|Mozilla/5.0 (comp...|\n",
      "|\"Mozilla/5.0 (Win...|\n",
      "|Mozilla/5.0 (Maci...|\n",
      "|\"Mozilla/5.0 (Win...|\n",
      "|\"Mozilla/5.0 (iPh...|\n",
      "|\"Mozilla/5.0 (Win...|\n",
      "|Mozilla/5.0 (Wind...|\n",
      "|Mozilla/5.0 (comp...|\n",
      "|Mozilla/5.0 (comp...|\n",
      "|\"Mozilla/5.0 (Mac...|\n",
      "|\"Mozilla/5.0 (Mac...|\n",
      "|\"Mozilla/5.0 (Win...|\n",
      "+--------------------+\n",
      "only showing top 20 rows\n",
      "\n"
     ]
    }
   ],
   "source": [
    "df_cleaned_stmp.select('userAgent').dropDuplicates().show()"
   ]
  },
  {
   "cell_type": "code",
   "execution_count": 55,
   "metadata": {},
   "outputs": [
    {
     "data": {
      "text/plain": [
       "56"
      ]
     },
     "execution_count": 55,
     "metadata": {},
     "output_type": "execute_result"
    }
   ],
   "source": [
    "df_cleaned_stmp.select('userAgent').dropDuplicates().count()"
   ]
  },
  {
   "cell_type": "markdown",
   "metadata": {},
   "source": [
    "There are too many values(56) in this feature, so we should change them into small categories."
   ]
  },
  {
   "cell_type": "code",
   "execution_count": 56,
   "metadata": {},
   "outputs": [],
   "source": [
    "def get_browser(x):\n",
    "    if 'Firefox' in x:\n",
    "        return 'Firefox'\n",
    "    elif 'Safari' in x:\n",
    "        if 'Chrome' in x:\n",
    "            return 'Chrome'\n",
    "        else:\n",
    "            return 'Safari'\n",
    "    elif 'Trident' in x:\n",
    "        return 'IE'\n",
    "    else:\n",
    "        return np.NaN\n",
    "    \n",
    "get_browser_udf = udf(lambda x: get_browser(x))"
   ]
  },
  {
   "cell_type": "code",
   "execution_count": 57,
   "metadata": {},
   "outputs": [],
   "source": [
    "df_cleaned_stmp = df_cleaned_stmp.withColumn('browser', \n",
    "                                             get_browser_udf(df_cleaned_stmp.userAgent))"
   ]
  },
  {
   "cell_type": "code",
   "execution_count": 58,
   "metadata": {},
   "outputs": [
    {
     "name": "stdout",
     "output_type": "stream",
     "text": [
      "+-------+-------------------+\n",
      "|browser|    churn_avg_total|\n",
      "+-------+-------------------+\n",
      "|Firefox|               0.32|\n",
      "| Safari|0.21739130434782608|\n",
      "|     IE|0.08333333333333333|\n",
      "| Chrome|0.21367521367521367|\n",
      "+-------+-------------------+\n",
      "\n"
     ]
    }
   ],
   "source": [
    "df_cleaned_stmp.groupby(['userId', 'browser']).agg(avg('churn').alias('churn_avg')) \\\n",
    "               .groupby('browser').agg(avg('churn_avg').alias('churn_avg_total')).show()"
   ]
  },
  {
   "cell_type": "markdown",
   "metadata": {},
   "source": [
    "Users using Firefox browser are likely to be churn among 4 browsers. Users using Safari and Chrome have similar value, and users using IE are the last."
   ]
  },
  {
   "cell_type": "markdown",
   "metadata": {},
   "source": [
    "### 3-14. time"
   ]
  },
  {
   "cell_type": "code",
   "execution_count": 70,
   "metadata": {},
   "outputs": [
    {
     "name": "stdout",
     "output_type": "stream",
     "text": [
      "+------+-----+-------------+-------------+\n",
      "|userId|churn|   time_first|    time_last|\n",
      "+------+-----+-------------+-------------+\n",
      "|    19|    0|1539105419000|1539159711000|\n",
      "|100005|    1|1538407015000|1539971825000|\n",
      "|200007|    0|1539951708000|1542585306000|\n",
      "|300007|    1|1538677496000|1538705338000|\n",
      "|    50|    0|1538622512000|1543576568000|\n",
      "+------+-----+-------------+-------------+\n",
      "only showing top 5 rows\n",
      "\n"
     ]
    }
   ],
   "source": [
    "to_see_time = df_cleaned_stmp.groupby(['userId', 'churn'])\\\n",
    "                            .agg(first('ts').alias('time_first'),\n",
    "                                 last('ts').alias('time_last'))\n",
    "to_see_time.show(5)"
   ]
  },
  {
   "cell_type": "code",
   "execution_count": 73,
   "metadata": {},
   "outputs": [
    {
     "data": {
      "text/html": [
       "<div>\n",
       "<style scoped>\n",
       "    .dataframe tbody tr th:only-of-type {\n",
       "        vertical-align: middle;\n",
       "    }\n",
       "\n",
       "    .dataframe tbody tr th {\n",
       "        vertical-align: top;\n",
       "    }\n",
       "\n",
       "    .dataframe thead th {\n",
       "        text-align: right;\n",
       "    }\n",
       "</style>\n",
       "<table border=\"1\" class=\"dataframe\">\n",
       "  <thead>\n",
       "    <tr style=\"text-align: right;\">\n",
       "      <th></th>\n",
       "      <th>userId</th>\n",
       "      <th>churn</th>\n",
       "      <th>time_first</th>\n",
       "      <th>time_last</th>\n",
       "      <th>time_gap</th>\n",
       "    </tr>\n",
       "  </thead>\n",
       "  <tbody>\n",
       "    <tr>\n",
       "      <th>0</th>\n",
       "      <td>19</td>\n",
       "      <td>0</td>\n",
       "      <td>1539105419000</td>\n",
       "      <td>1539159711000</td>\n",
       "      <td>54292000</td>\n",
       "    </tr>\n",
       "    <tr>\n",
       "      <th>1</th>\n",
       "      <td>100005</td>\n",
       "      <td>1</td>\n",
       "      <td>1538407015000</td>\n",
       "      <td>1539971825000</td>\n",
       "      <td>1564810000</td>\n",
       "    </tr>\n",
       "    <tr>\n",
       "      <th>2</th>\n",
       "      <td>200007</td>\n",
       "      <td>0</td>\n",
       "      <td>1539951708000</td>\n",
       "      <td>1542585306000</td>\n",
       "      <td>2633598000</td>\n",
       "    </tr>\n",
       "    <tr>\n",
       "      <th>3</th>\n",
       "      <td>300007</td>\n",
       "      <td>1</td>\n",
       "      <td>1538677496000</td>\n",
       "      <td>1538705338000</td>\n",
       "      <td>27842000</td>\n",
       "    </tr>\n",
       "    <tr>\n",
       "      <th>4</th>\n",
       "      <td>50</td>\n",
       "      <td>0</td>\n",
       "      <td>1538622512000</td>\n",
       "      <td>1543576568000</td>\n",
       "      <td>4954056000</td>\n",
       "    </tr>\n",
       "  </tbody>\n",
       "</table>\n",
       "</div>"
      ],
      "text/plain": [
       "   userId  churn     time_first      time_last    time_gap\n",
       "0      19      0  1539105419000  1539159711000    54292000\n",
       "1  100005      1  1538407015000  1539971825000  1564810000\n",
       "2  200007      0  1539951708000  1542585306000  2633598000\n",
       "3  300007      1  1538677496000  1538705338000    27842000\n",
       "4      50      0  1538622512000  1543576568000  4954056000"
      ]
     },
     "execution_count": 73,
     "metadata": {},
     "output_type": "execute_result"
    }
   ],
   "source": [
    "to_see_time_pd = to_see_time.toPandas()\n",
    "to_see_time_pd['time_gap'] = to_see_time_pd['time_last'] - to_see_time_pd['time_first']\n",
    "to_see_time_pd.head(5)"
   ]
  },
  {
   "cell_type": "code",
   "execution_count": 74,
   "metadata": {},
   "outputs": [
    {
     "data": {
      "text/plain": [
       "churn\n",
       "0    4.060011e+09\n",
       "1    2.031666e+09\n",
       "Name: time_gap, dtype: float64"
      ]
     },
     "execution_count": 74,
     "metadata": {},
     "output_type": "execute_result"
    }
   ],
   "source": [
    "to_see_time_pd.groupby('churn').mean()['time_gap']"
   ]
  },
  {
   "cell_type": "markdown",
   "metadata": {},
   "source": [
    "**We could see that churns usually use less time than non-churns!**"
   ]
  }
 ],
 "metadata": {
  "kernelspec": {
   "display_name": "Python 3",
   "language": "python",
   "name": "python3"
  },
  "language_info": {
   "codemirror_mode": {
    "name": "ipython",
    "version": 3
   },
   "file_extension": ".py",
   "mimetype": "text/x-python",
   "name": "python",
   "nbconvert_exporter": "python",
   "pygments_lexer": "ipython3",
   "version": "3.6.3"
  }
 },
 "nbformat": 4,
 "nbformat_minor": 2
}
